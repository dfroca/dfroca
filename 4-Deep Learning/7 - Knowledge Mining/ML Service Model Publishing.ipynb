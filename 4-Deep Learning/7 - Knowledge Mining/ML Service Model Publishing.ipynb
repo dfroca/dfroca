{
 "cells": [
  {
   "cell_type": "markdown",
   "metadata": {},
   "source": [
    "\n",
    "\n",
    "#### Import standard Python modules"
   ]
  },
  {
   "cell_type": "code",
   "execution_count": 113,
   "metadata": {},
   "outputs": [],
   "source": [
    "#Imports de python\n",
    "\n",
    "import datetime\n",
    "import numpy as np\n",
    "import pandas as pd\n",
    "from sklearn.model_selection import train_test_split\n",
    "from sklearn.linear_model import LinearRegression\n",
    "from sklearn.externals import joblib"
   ]
  },
  {
   "cell_type": "markdown",
   "metadata": {},
   "source": [
    "#### Import Azure ML SDK modules"
   ]
  },
  {
   "cell_type": "code",
   "execution_count": 114,
   "metadata": {},
   "outputs": [],
   "source": [
    "#Imports de Azure\n",
    "\n",
    "import azureml.core\n",
    "from azureml.core import Workspace\n",
    "from azureml.core.model import Model\n",
    "from azureml.core import Experiment\n",
    "from azureml.core.webservice import Webservice\n",
    "from azureml.core.image import ContainerImage\n",
    "from azureml.core.webservice import AciWebservice\n",
    "from azureml.core.conda_dependencies import CondaDependencies"
   ]
  },
  {
   "cell_type": "markdown",
   "metadata": {},
   "source": [
    "#### Check Azure ML SDK version"
   ]
  },
  {
   "cell_type": "code",
   "execution_count": 115,
   "metadata": {},
   "outputs": [
    {
     "name": "stdout",
     "output_type": "stream",
     "text": [
      "1.0.21\n"
     ]
    }
   ],
   "source": [
    "# Revisar cual es la versión de Azure\n",
    "\n",
    "print(azureml.core.VERSION)"
   ]
  },
  {
   "cell_type": "markdown",
   "metadata": {},
   "source": [
    "#### Create Azure ML Workspace"
   ]
  },
  {
   "cell_type": "code",
   "execution_count": 116,
   "metadata": {},
   "outputs": [
    {
     "name": "stdout",
     "output_type": "stream",
     "text": [
      "Deploying ContainerRegistry with name pruebarfacrfwcbtdtd.\n",
      "Deployed ContainerRegistry with name pruebarfacrfwcbtdtd.\n",
      "Deploying KeyVault with name pruebarfkeyvaultwxsdnjuw.\n",
      "Deploying StorageAccount with name pruebarfstoragentzaurfi.\n",
      "Deploying AppInsights with name pruebarfinsightsqcjtqefg.\n",
      "Deployed AppInsights with name pruebarfinsightsqcjtqefg.\n",
      "Deployed KeyVault with name pruebarfkeyvaultwxsdnjuw.\n",
      "Deployed StorageAccount with name pruebarfstoragentzaurfi.\n",
      "Deploying Workspace with name pruebaRF.\n",
      "Deployed Workspace with name pruebaRF.\n"
     ]
    }
   ],
   "source": [
    "# Conectarse al Workspace propio\n",
    "\n",
    "AZ_SUBSCRIPTION_ID='1e63958c-c60b-4d54-b45d-1d3326ee4345'\n",
    "ws = Workspace.create(name='pruebaRF',\n",
    "                      subscription_id=AZ_SUBSCRIPTION_ID, \n",
    "                      resource_group='CognitiveEY',\n",
    "                      create_resource_group=False,\n",
    "                      location='southeastasia'\n",
    "                     )"
   ]
  },
  {
   "cell_type": "markdown",
   "metadata": {},
   "source": [
    "#### Write configuration to local file"
   ]
  },
  {
   "cell_type": "code",
   "execution_count": 118,
   "metadata": {},
   "outputs": [
    {
     "name": "stdout",
     "output_type": "stream",
     "text": [
      "Wrote the config file config.json to: C:\\Users\\Daniel.Roca\\Documents\\1-Clientes\\Hack-a-lot MS\\Python Notebooks\\aml_config\\config.json\n"
     ]
    }
   ],
   "source": [
    "# Archivos de configuracion de los servicios\n",
    "\n",
    "ws.write_config()"
   ]
  },
  {
   "cell_type": "markdown",
   "metadata": {},
   "source": [
    "#### Create Azure ML Experiment"
   ]
  },
  {
   "cell_type": "code",
   "execution_count": 119,
   "metadata": {},
   "outputs": [],
   "source": [
    "# Crear el experimento en el workspace de Azure\n",
    "\n",
    "exp = Experiment(workspace=ws, name='RForest')"
   ]
  },
  {
   "cell_type": "markdown",
   "metadata": {},
   "source": [
    "#### Start logging metrics"
   ]
  },
  {
   "cell_type": "code",
   "execution_count": 120,
   "metadata": {},
   "outputs": [],
   "source": [
    "# Ingresar en el log del experimento el tiempo de ahorita\n",
    "\n",
    "run = exp.start_logging()                   \n",
    "run.log(\"Experiment start time\", str(datetime.datetime.now()))"
   ]
  },
  {
   "cell_type": "markdown",
   "metadata": {},
   "source": [
    "#### Load salary dataset"
   ]
  },
  {
   "cell_type": "code",
   "execution_count": 121,
   "metadata": {},
   "outputs": [],
   "source": [
    "# Descargarse el archivo fuente de Azure guardarlo local y manipularlo desde python.\n",
    "\n",
    "from azure.storage.blob import BlockBlobService\n",
    "\n",
    "block_blob_service = BlockBlobService(account_name='hackatonms', account_key='lAITAy0zk9vDkuxhYFhmA7oleq08sFmuTSaGWV/B7dBGW2l/HO9rvf5rB/DHzprLkvbYITHcta4rteJbxP4MpA==')\n",
    "\n",
    "arch = block_blob_service.get_blob_to_path('fuentes', 'SECOP II - Contratos Demo.csv', '../Pruebadoc.csv')\n",
    "\n",
    "file = pd.read_csv('../Pruebadoc.csv',sep=\",\")\n"
   ]
  },
  {
   "cell_type": "markdown",
   "metadata": {},
   "source": [
    "#### Split the train and test data"
   ]
  },
  {
   "cell_type": "code",
   "execution_count": 122,
   "metadata": {},
   "outputs": [
    {
     "data": {
      "text/html": [
       "<div>\n",
       "<style scoped>\n",
       "    .dataframe tbody tr th:only-of-type {\n",
       "        vertical-align: middle;\n",
       "    }\n",
       "\n",
       "    .dataframe tbody tr th {\n",
       "        vertical-align: top;\n",
       "    }\n",
       "\n",
       "    .dataframe thead th {\n",
       "        text-align: right;\n",
       "    }\n",
       "</style>\n",
       "<table border=\"1\" class=\"dataframe\">\n",
       "  <thead>\n",
       "    <tr style=\"text-align: right;\">\n",
       "      <th></th>\n",
       "      <th>Nombre Entidad</th>\n",
       "      <th>Nit Entidad</th>\n",
       "      <th>Proceso de Compra</th>\n",
       "      <th>Descripción del Proceso</th>\n",
       "      <th>Tipo de Contrato</th>\n",
       "      <th>Referencia del Contrato</th>\n",
       "      <th>Fecha de Inicio del Contrato</th>\n",
       "      <th>Fecha de Fin del Contrato</th>\n",
       "      <th>Fecha de Inicio de Ejecucion</th>\n",
       "      <th>Fecha de Fin de Ejecucion</th>\n",
       "      <th>...</th>\n",
       "      <th>Tipo de Proceso</th>\n",
       "      <th>Fecha de Firma</th>\n",
       "      <th>Estado BPIN</th>\n",
       "      <th>Anno BPIN</th>\n",
       "      <th>Codigo BPIN</th>\n",
       "      <th>Tipo Documento Proveedor</th>\n",
       "      <th>Documento Proveedor</th>\n",
       "      <th>Es Post Conflicto</th>\n",
       "      <th>URL Proceso</th>\n",
       "      <th>ID Contrato</th>\n",
       "    </tr>\n",
       "  </thead>\n",
       "  <tbody>\n",
       "    <tr>\n",
       "      <th>0</th>\n",
       "      <td>SECRETARIA DISTRITAL DE INTEGRACION SOCIAL</td>\n",
       "      <td>899999061</td>\n",
       "      <td>CO1.BDOS.443537</td>\n",
       "      <td>PRESTACIÓN DE SERVICIOS COMO AUXILIAR ADMINIST...</td>\n",
       "      <td>Prestación de servicios</td>\n",
       "      <td>5165-2018</td>\n",
       "      <td>1</td>\n",
       "      <td>10</td>\n",
       "      <td>1</td>\n",
       "      <td>10</td>\n",
       "      <td>...</td>\n",
       "      <td>Contratación directa</td>\n",
       "      <td>07/05/2018 05:07</td>\n",
       "      <td>No Válido</td>\n",
       "      <td>2018.0</td>\n",
       "      <td>NaN</td>\n",
       "      <td>Cédula de Ciudadanía</td>\n",
       "      <td>1016039177</td>\n",
       "      <td>NaN</td>\n",
       "      <td>https://community.secop.gov.co/Public/Tenderin...</td>\n",
       "      <td>CO1.PCCNTR.453169</td>\n",
       "    </tr>\n",
       "    <tr>\n",
       "      <th>1</th>\n",
       "      <td>DEPARTAMENTO DE POLICIA URABA</td>\n",
       "      <td>800141103</td>\n",
       "      <td>CO1.BDOS.394774</td>\n",
       "      <td>MANTENIMIENTO PREVENTIVO Y CORRECTIVO Y/O MEJ...</td>\n",
       "      <td>Obra</td>\n",
       "      <td>42-6-10015-18</td>\n",
       "      <td>2</td>\n",
       "      <td>11</td>\n",
       "      <td>2</td>\n",
       "      <td>21</td>\n",
       "      <td>...</td>\n",
       "      <td>Selección Abreviada de Menor Cuantía</td>\n",
       "      <td>06/13/2018 02:06:47 PM</td>\n",
       "      <td>No Válido</td>\n",
       "      <td>NaN</td>\n",
       "      <td>NaN</td>\n",
       "      <td>NIT</td>\n",
       "      <td>900964257</td>\n",
       "      <td>0.0</td>\n",
       "      <td>https://community.secop.gov.co/Public/Tenderin...</td>\n",
       "      <td>CO1.PCCNTR.424348</td>\n",
       "    </tr>\n",
       "    <tr>\n",
       "      <th>2</th>\n",
       "      <td>GOBERNACIÓN DE SANTANDER</td>\n",
       "      <td>890201235</td>\n",
       "      <td>CO1.BDOS.253107</td>\n",
       "      <td>PRESTAR SERVICIOS DE APOYO A LA GESTIÓN ADMINI...</td>\n",
       "      <td>Prestación de servicios</td>\n",
       "      <td>CO1.PCCNTR.241016</td>\n",
       "      <td>3</td>\n",
       "      <td>12</td>\n",
       "      <td>3</td>\n",
       "      <td>12</td>\n",
       "      <td>...</td>\n",
       "      <td>Contratación Directa (con ofertas)</td>\n",
       "      <td>02/07/2018 20:02</td>\n",
       "      <td>No Válido</td>\n",
       "      <td>2018.0</td>\n",
       "      <td>NaN</td>\n",
       "      <td>Cédula de Ciudadanía</td>\n",
       "      <td>1098666972</td>\n",
       "      <td>NaN</td>\n",
       "      <td>https://community.secop.gov.co/Public/Tenderin...</td>\n",
       "      <td>CO1.PCCNTR.241016</td>\n",
       "    </tr>\n",
       "    <tr>\n",
       "      <th>3</th>\n",
       "      <td>FONDO DE TECNOLOGÍAS DE LA INFORMACIÓN Y LAS C...</td>\n",
       "      <td>800131648</td>\n",
       "      <td>CO1.BDOS.285519</td>\n",
       "      <td>Prestar sus servicios profesionales en el trám...</td>\n",
       "      <td>Prestación de servicios</td>\n",
       "      <td>CO1.PCCNTR.277150</td>\n",
       "      <td>4</td>\n",
       "      <td>13</td>\n",
       "      <td>4</td>\n",
       "      <td>22</td>\n",
       "      <td>...</td>\n",
       "      <td>Contratación directa</td>\n",
       "      <td>01/11/2018 22:01</td>\n",
       "      <td>No Válido</td>\n",
       "      <td>2019.0</td>\n",
       "      <td>NaN</td>\n",
       "      <td>Cédula de Ciudadanía</td>\n",
       "      <td>1014197389</td>\n",
       "      <td>0.0</td>\n",
       "      <td>https://community.secop.gov.co/Public/Tenderin...</td>\n",
       "      <td>CO1.PCCNTR.277150</td>\n",
       "    </tr>\n",
       "    <tr>\n",
       "      <th>4</th>\n",
       "      <td>SUBRED INTEGRADA DE SERVICIOS DE SALUD CENTRO ...</td>\n",
       "      <td>900959051</td>\n",
       "      <td>CO1.BDOS.288455</td>\n",
       "      <td>PRESTAR SUS SERVICIOS  DE APOYO DE MANERA  PER...</td>\n",
       "      <td>Prestación de servicios</td>\n",
       "      <td>PS 1821 2018</td>\n",
       "      <td>5</td>\n",
       "      <td>14</td>\n",
       "      <td>5</td>\n",
       "      <td>14</td>\n",
       "      <td>...</td>\n",
       "      <td>Contratación régimen especial</td>\n",
       "      <td>03/28/2018 01:03:17 PM</td>\n",
       "      <td>No Válido</td>\n",
       "      <td>NaN</td>\n",
       "      <td>NaN</td>\n",
       "      <td>Cédula de Ciudadanía</td>\n",
       "      <td>39553719</td>\n",
       "      <td>NaN</td>\n",
       "      <td>https://community.secop.gov.co/Public/Tenderin...</td>\n",
       "      <td>CO1.PCCNTR.278208</td>\n",
       "    </tr>\n",
       "  </tbody>\n",
       "</table>\n",
       "<p>5 rows × 38 columns</p>\n",
       "</div>"
      ],
      "text/plain": [
       "                                      Nombre Entidad  Nit Entidad  \\\n",
       "0         SECRETARIA DISTRITAL DE INTEGRACION SOCIAL    899999061   \n",
       "1                      DEPARTAMENTO DE POLICIA URABA    800141103   \n",
       "2                           GOBERNACIÓN DE SANTANDER    890201235   \n",
       "3  FONDO DE TECNOLOGÍAS DE LA INFORMACIÓN Y LAS C...    800131648   \n",
       "4  SUBRED INTEGRADA DE SERVICIOS DE SALUD CENTRO ...    900959051   \n",
       "\n",
       "  Proceso de Compra                            Descripción del Proceso  \\\n",
       "0   CO1.BDOS.443537  PRESTACIÓN DE SERVICIOS COMO AUXILIAR ADMINIST...   \n",
       "1   CO1.BDOS.394774  MANTENIMIENTO PREVENTIVO Y CORRECTIVO Y/O MEJ...   \n",
       "2   CO1.BDOS.253107  PRESTAR SERVICIOS DE APOYO A LA GESTIÓN ADMINI...   \n",
       "3   CO1.BDOS.285519  Prestar sus servicios profesionales en el trám...   \n",
       "4   CO1.BDOS.288455  PRESTAR SUS SERVICIOS  DE APOYO DE MANERA  PER...   \n",
       "\n",
       "          Tipo de Contrato Referencia del Contrato  \\\n",
       "0  Prestación de servicios               5165-2018   \n",
       "1                     Obra           42-6-10015-18   \n",
       "2  Prestación de servicios       CO1.PCCNTR.241016   \n",
       "3  Prestación de servicios       CO1.PCCNTR.277150   \n",
       "4  Prestación de servicios            PS 1821 2018   \n",
       "\n",
       "   Fecha de Inicio del Contrato  Fecha de Fin del Contrato  \\\n",
       "0                             1                         10   \n",
       "1                             2                         11   \n",
       "2                             3                         12   \n",
       "3                             4                         13   \n",
       "4                             5                         14   \n",
       "\n",
       "   Fecha de Inicio de Ejecucion  Fecha de Fin de Ejecucion        ...          \\\n",
       "0                             1                         10        ...           \n",
       "1                             2                         21        ...           \n",
       "2                             3                         12        ...           \n",
       "3                             4                         22        ...           \n",
       "4                             5                         14        ...           \n",
       "\n",
       "                        Tipo de Proceso          Fecha de Firma  Estado BPIN  \\\n",
       "0                  Contratación directa        07/05/2018 05:07    No Válido   \n",
       "1  Selección Abreviada de Menor Cuantía  06/13/2018 02:06:47 PM    No Válido   \n",
       "2    Contratación Directa (con ofertas)        02/07/2018 20:02    No Válido   \n",
       "3                  Contratación directa        01/11/2018 22:01    No Válido   \n",
       "4         Contratación régimen especial  03/28/2018 01:03:17 PM    No Válido   \n",
       "\n",
       "  Anno BPIN Codigo BPIN Tipo Documento Proveedor Documento Proveedor  \\\n",
       "0    2018.0         NaN     Cédula de Ciudadanía          1016039177   \n",
       "1       NaN         NaN                      NIT           900964257   \n",
       "2    2018.0         NaN     Cédula de Ciudadanía          1098666972   \n",
       "3    2019.0         NaN     Cédula de Ciudadanía          1014197389   \n",
       "4       NaN         NaN     Cédula de Ciudadanía            39553719   \n",
       "\n",
       "  Es Post Conflicto                                        URL Proceso  \\\n",
       "0               NaN  https://community.secop.gov.co/Public/Tenderin...   \n",
       "1               0.0  https://community.secop.gov.co/Public/Tenderin...   \n",
       "2               NaN  https://community.secop.gov.co/Public/Tenderin...   \n",
       "3               0.0  https://community.secop.gov.co/Public/Tenderin...   \n",
       "4               NaN  https://community.secop.gov.co/Public/Tenderin...   \n",
       "\n",
       "         ID Contrato  \n",
       "0  CO1.PCCNTR.453169  \n",
       "1  CO1.PCCNTR.424348  \n",
       "2  CO1.PCCNTR.241016  \n",
       "3  CO1.PCCNTR.277150  \n",
       "4  CO1.PCCNTR.278208  \n",
       "\n",
       "[5 rows x 38 columns]"
      ]
     },
     "execution_count": 122,
     "metadata": {},
     "output_type": "execute_result"
    }
   ],
   "source": [
    "file.head()"
   ]
  },
  {
   "cell_type": "code",
   "execution_count": 123,
   "metadata": {},
   "outputs": [],
   "source": [
    "# Crear función para calcular variable objetivo de atrasos\n",
    "\n",
    "def calcular_atraso (df):\n",
    "    if (df['Fecha de Fin de Ejecucion']-df['Fecha de Inicio del Contrato'])/(df['Fecha de Fin del Contrato']-df['Fecha de Inicio del Contrato'])>1.2:\n",
    "        return 1\n",
    "    return 0\n",
    "\n",
    "# Agregar dentro del dataset la columna Atraso\n",
    "    \n",
    "file['Atraso'] = file.apply(lambda file: calcular_atraso(file), axis=1)     \n",
    "\n"
   ]
  },
  {
   "cell_type": "code",
   "execution_count": 124,
   "metadata": {
    "scrolled": true
   },
   "outputs": [
    {
     "data": {
      "text/html": [
       "<div>\n",
       "<style scoped>\n",
       "    .dataframe tbody tr th:only-of-type {\n",
       "        vertical-align: middle;\n",
       "    }\n",
       "\n",
       "    .dataframe tbody tr th {\n",
       "        vertical-align: top;\n",
       "    }\n",
       "\n",
       "    .dataframe thead th {\n",
       "        text-align: right;\n",
       "    }\n",
       "</style>\n",
       "<table border=\"1\" class=\"dataframe\">\n",
       "  <thead>\n",
       "    <tr style=\"text-align: right;\">\n",
       "      <th></th>\n",
       "      <th>Nit Entidad</th>\n",
       "      <th>Tipo de Contrato</th>\n",
       "      <th>Valor del Contrato</th>\n",
       "      <th>Atraso</th>\n",
       "    </tr>\n",
       "  </thead>\n",
       "  <tbody>\n",
       "    <tr>\n",
       "      <th>0</th>\n",
       "      <td>899999061</td>\n",
       "      <td>Prestación de servicios</td>\n",
       "      <td>14214000</td>\n",
       "      <td>0</td>\n",
       "    </tr>\n",
       "    <tr>\n",
       "      <th>1</th>\n",
       "      <td>800141103</td>\n",
       "      <td>Obra</td>\n",
       "      <td>32254381</td>\n",
       "      <td>1</td>\n",
       "    </tr>\n",
       "    <tr>\n",
       "      <th>2</th>\n",
       "      <td>890201235</td>\n",
       "      <td>Prestación de servicios</td>\n",
       "      <td>23500000</td>\n",
       "      <td>0</td>\n",
       "    </tr>\n",
       "    <tr>\n",
       "      <th>3</th>\n",
       "      <td>800131648</td>\n",
       "      <td>Prestación de servicios</td>\n",
       "      <td>27192000</td>\n",
       "      <td>1</td>\n",
       "    </tr>\n",
       "    <tr>\n",
       "      <th>4</th>\n",
       "      <td>900959051</td>\n",
       "      <td>Prestación de servicios</td>\n",
       "      <td>15074790</td>\n",
       "      <td>0</td>\n",
       "    </tr>\n",
       "  </tbody>\n",
       "</table>\n",
       "</div>"
      ],
      "text/plain": [
       "   Nit Entidad         Tipo de Contrato  Valor del Contrato  Atraso\n",
       "0    899999061  Prestación de servicios            14214000       0\n",
       "1    800141103                     Obra            32254381       1\n",
       "2    890201235  Prestación de servicios            23500000       0\n",
       "3    800131648  Prestación de servicios            27192000       1\n",
       "4    900959051  Prestación de servicios            15074790       0"
      ]
     },
     "execution_count": 124,
     "metadata": {},
     "output_type": "execute_result"
    }
   ],
   "source": [
    "# Quitar columnas que no se van a utilizar para el entrenamiento del modelo\n",
    "\n",
    "file = file.drop('Nombre Entidad', axis = 1)\n",
    "file = file.drop('Proceso de Compra', axis = 1)\n",
    "file = file.drop('Descripción del Proceso', axis = 1)\n",
    "file = file.drop('Referencia del Contrato', axis = 1)\n",
    "file = file.drop('Fecha de Inicio del Contrato', axis = 1)\n",
    "file = file.drop('Fecha de Fin del Contrato', axis = 1)\n",
    "file = file.drop('Fecha de Inicio de Ejecucion', axis = 1)\n",
    "file = file.drop('Fecha de Fin de Ejecucion', axis = 1)\n",
    "file = file.drop('Condiciones de Entrega', axis = 1)\n",
    "file = file.drop('Proveedor Adjudicado', axis = 1)\n",
    "file = file.drop('Es Grupo', axis = 1)\n",
    "file = file.drop('Estado Contrato', axis = 1)\n",
    "file = file.drop('Habilita Pago Adelantado', axis = 1)\n",
    "file = file.drop('Liquidacion', axis = 1)\n",
    "file = file.drop('Obligaciones Ambientales', axis = 1)\n",
    "file = file.drop('Obligaciones Postconsumo', axis = 1)\n",
    "file = file.drop('Reversion', axis = 1)\n",
    "file = file.drop('Valor de pago adelantado', axis = 1)\n",
    "file = file.drop('Valor Facturado', axis = 1)\n",
    "file = file.drop('Valor Pendiente de Pago', axis = 1)\n",
    "file = file.drop('Valor Pagado', axis = 1)\n",
    "file = file.drop('Valor Amortizado', axis = 1)\n",
    "file = file.drop('Valor Pendiente de Amortizacion', axis = 1)\n",
    "file = file.drop('Valor Pendiente de Ejecucion', axis = 1)\n",
    "file = file.drop('Codigo de Categoria Principal', axis = 1)\n",
    "file = file.drop('Tipo de Proceso', axis = 1)\n",
    "file = file.drop('Fecha de Firma', axis = 1)\n",
    "file = file.drop('Estado BPIN', axis = 1)\n",
    "file = file.drop('Anno BPIN', axis = 1)\n",
    "file = file.drop('Codigo BPIN', axis = 1)\n",
    "file = file.drop('Tipo Documento Proveedor', axis = 1)\n",
    "file = file.drop('Documento Proveedor', axis = 1)\n",
    "file = file.drop('Es Post Conflicto', axis = 1)\n",
    "file = file.drop('URL Proceso', axis = 1)\n",
    "file = file.drop('ID Contrato', axis = 1)\n",
    "\n",
    "file.head()"
   ]
  },
  {
   "cell_type": "code",
   "execution_count": 125,
   "metadata": {},
   "outputs": [
    {
     "data": {
      "text/html": [
       "<div>\n",
       "<style scoped>\n",
       "    .dataframe tbody tr th:only-of-type {\n",
       "        vertical-align: middle;\n",
       "    }\n",
       "\n",
       "    .dataframe tbody tr th {\n",
       "        vertical-align: top;\n",
       "    }\n",
       "\n",
       "    .dataframe thead th {\n",
       "        text-align: right;\n",
       "    }\n",
       "</style>\n",
       "<table border=\"1\" class=\"dataframe\">\n",
       "  <thead>\n",
       "    <tr style=\"text-align: right;\">\n",
       "      <th></th>\n",
       "      <th>Nit Entidad</th>\n",
       "      <th>Valor del Contrato</th>\n",
       "      <th>Atraso</th>\n",
       "      <th>Tipo de Contrato_Obra</th>\n",
       "      <th>Tipo de Contrato_Prestación de servicios</th>\n",
       "    </tr>\n",
       "  </thead>\n",
       "  <tbody>\n",
       "    <tr>\n",
       "      <th>0</th>\n",
       "      <td>899999061</td>\n",
       "      <td>14214000</td>\n",
       "      <td>0</td>\n",
       "      <td>0</td>\n",
       "      <td>1</td>\n",
       "    </tr>\n",
       "    <tr>\n",
       "      <th>1</th>\n",
       "      <td>800141103</td>\n",
       "      <td>32254381</td>\n",
       "      <td>1</td>\n",
       "      <td>1</td>\n",
       "      <td>0</td>\n",
       "    </tr>\n",
       "    <tr>\n",
       "      <th>2</th>\n",
       "      <td>890201235</td>\n",
       "      <td>23500000</td>\n",
       "      <td>0</td>\n",
       "      <td>0</td>\n",
       "      <td>1</td>\n",
       "    </tr>\n",
       "    <tr>\n",
       "      <th>3</th>\n",
       "      <td>800131648</td>\n",
       "      <td>27192000</td>\n",
       "      <td>1</td>\n",
       "      <td>0</td>\n",
       "      <td>1</td>\n",
       "    </tr>\n",
       "    <tr>\n",
       "      <th>4</th>\n",
       "      <td>900959051</td>\n",
       "      <td>15074790</td>\n",
       "      <td>0</td>\n",
       "      <td>0</td>\n",
       "      <td>1</td>\n",
       "    </tr>\n",
       "  </tbody>\n",
       "</table>\n",
       "</div>"
      ],
      "text/plain": [
       "   Nit Entidad  Valor del Contrato  Atraso  Tipo de Contrato_Obra  \\\n",
       "0    899999061            14214000       0                      0   \n",
       "1    800141103            32254381       1                      1   \n",
       "2    890201235            23500000       0                      0   \n",
       "3    800131648            27192000       1                      0   \n",
       "4    900959051            15074790       0                      0   \n",
       "\n",
       "   Tipo de Contrato_Prestación de servicios  \n",
       "0                                         1  \n",
       "1                                         0  \n",
       "2                                         1  \n",
       "3                                         1  \n",
       "4                                         1  "
      ]
     },
     "execution_count": 125,
     "metadata": {},
     "output_type": "execute_result"
    }
   ],
   "source": [
    "# Volver las columnas categóricas dummys para el modelo\n",
    "\n",
    "file = pd.get_dummies(file,prefix=['Tipo de Contrato'])\n",
    "\n",
    "file.head()"
   ]
  },
  {
   "cell_type": "code",
   "execution_count": 126,
   "metadata": {},
   "outputs": [],
   "source": [
    "# Dividir el dataset para utilizar el random forest\n",
    "\n",
    "pred = np.array(file['Atraso'])\n",
    "file = file.drop('Atraso', axis = 1)\n",
    "\n",
    "lista_variables = list(file.columns)\n",
    "\n",
    "features = np.array(file)\n",
    "\n",
    "# importar libreria para hacer split de datos y generar set de entrenamiento \n",
    "from sklearn.model_selection import train_test_split\n"
   ]
  },
  {
   "cell_type": "code",
   "execution_count": 127,
   "metadata": {},
   "outputs": [
    {
     "name": "stdout",
     "output_type": "stream",
     "text": [
      "Datos de entrenamiento (3, 4)\n",
      "Encabezados de entrenamiento (3,)\n",
      "Datos de prueba (4, 4)\n",
      "Encabezados de prueba (4,)\n"
     ]
    }
   ],
   "source": [
    "# para el split se definen las raices y el tamaño de prueba\n",
    "seed = 42\n",
    "size = 0.5\n",
    "\n",
    "# Hacer el split de los datos: entrenamiento y prueba\n",
    "train_features, test_features, train_labels, test_labels = train_test_split(features, pred, test_size = size, random_state = seed)\n",
    "\n",
    "# Imprimir el tamaño de la data\n",
    "print('Datos de entrenamiento', train_features.shape)\n",
    "print('Encabezados de entrenamiento', train_labels.shape)\n",
    "print('Datos de prueba', test_features.shape)\n",
    "print('Encabezados de prueba', test_labels.shape)"
   ]
  },
  {
   "cell_type": "markdown",
   "metadata": {},
   "source": [
    "#### Train the model"
   ]
  },
  {
   "cell_type": "code",
   "execution_count": 128,
   "metadata": {},
   "outputs": [],
   "source": [
    "# Importar el modelo que se va a utilizar, en este caso Random Forest\n",
    "from sklearn.ensemble import RandomForestClassifier\n",
    "\n",
    "# Instanciación del modelo con 1000 árboles de decisión\n",
    "rf = RandomForestClassifier(n_estimators = 1000, random_state = seed)\n",
    "\n",
    "# Entrenar el modelo con los datos de entrenamiento\n",
    "rf.fit(train_features, train_labels);"
   ]
  },
  {
   "cell_type": "markdown",
   "metadata": {},
   "source": [
    "#### Freeze the model"
   ]
  },
  {
   "cell_type": "code",
   "execution_count": 129,
   "metadata": {},
   "outputs": [
    {
     "data": {
      "text/plain": [
       "['../modelo_secop.pkl']"
      ]
     },
     "execution_count": 129,
     "metadata": {},
     "output_type": "execute_result"
    }
   ],
   "source": [
    "# Guardar el modelo en un archivo local\n",
    "\n",
    "filename = '../modelo_secop.pkl'\n",
    "joblib.dump(rf, filename)"
   ]
  },
  {
   "cell_type": "markdown",
   "metadata": {},
   "source": [
    "#### Test the model"
   ]
  },
  {
   "cell_type": "code",
   "execution_count": 130,
   "metadata": {},
   "outputs": [
    {
     "name": "stdout",
     "output_type": "stream",
     "text": [
      "[0.643 0.357]\n"
     ]
    }
   ],
   "source": [
    "# Probar el modelo con datos nuevos\n",
    "\n",
    "filename = '../modelo_secop.pkl'\n",
    "loaded_model=joblib.load(filename)\n",
    "atr=loaded_model.predict_proba([[1234567,1234567,0,1]])[0]\n",
    "print(atr)"
   ]
  },
  {
   "cell_type": "markdown",
   "metadata": {},
   "source": [
    "#### Log metrics to Azure ML Experiment"
   ]
  },
  {
   "cell_type": "code",
   "execution_count": 13,
   "metadata": {},
   "outputs": [],
   "source": [
    "#run.log('Intercept :', lm.intercept_)\n",
    "#run.log('Slope :', lm.coef_[0])"
   ]
  },
  {
   "cell_type": "markdown",
   "metadata": {},
   "source": [
    "#### End Azure ML Experiment"
   ]
  },
  {
   "cell_type": "code",
   "execution_count": 131,
   "metadata": {},
   "outputs": [],
   "source": [
    "run.log(\"Experiment end time\", str(datetime.datetime.now()))\n",
    "run.complete()"
   ]
  },
  {
   "cell_type": "markdown",
   "metadata": {},
   "source": [
    "#### Get Portal URL"
   ]
  },
  {
   "cell_type": "code",
   "execution_count": 132,
   "metadata": {},
   "outputs": [
    {
     "name": "stdout",
     "output_type": "stream",
     "text": [
      "https://mlworkspace.azure.ai/portal/subscriptions/1e63958c-c60b-4d54-b45d-1d3326ee4345/resourceGroups/CognitiveEY/providers/Microsoft.MachineLearningServices/workspaces/pruebaRF/experiments/RForest/runs/07429ba3-f238-452a-949f-a03cc9a568e8\n"
     ]
    }
   ],
   "source": [
    "# URL con la información de la corrida\n",
    "\n",
    "print(run.get_portal_url())"
   ]
  },
  {
   "cell_type": "markdown",
   "metadata": {},
   "source": [
    "#### Register the model"
   ]
  },
  {
   "cell_type": "code",
   "execution_count": 133,
   "metadata": {},
   "outputs": [
    {
     "name": "stdout",
     "output_type": "stream",
     "text": [
      "Registering model modelo_secop\n"
     ]
    }
   ],
   "source": [
    "# Registro del modelo creado con Azure\n",
    "\n",
    "model = Model.register(model_path = \"../modelo_secop.pkl\",\n",
    "                       model_name = \"modelo_secop\",\n",
    "                       tags = {\"key\": \"1\"},\n",
    "                       description = \"Predicción de Contratos\",\n",
    "                       workspace = ws)"
   ]
  },
  {
   "cell_type": "markdown",
   "metadata": {},
   "source": [
    "#### Define Azure ML Deploymemt configuration"
   ]
  },
  {
   "cell_type": "code",
   "execution_count": 134,
   "metadata": {},
   "outputs": [],
   "source": [
    "aciconfig = AciWebservice.deploy_configuration(cpu_cores=1, \n",
    "                                               memory_gb=1, \n",
    "                                               tags={\"data\": \"Contratos\",  \"method\" : \"Random Forest\"}, \n",
    "                                               description='Predecir atrasos en contratos')"
   ]
  },
  {
   "cell_type": "markdown",
   "metadata": {},
   "source": [
    "#### Create enviroment configuration file"
   ]
  },
  {
   "cell_type": "code",
   "execution_count": 135,
   "metadata": {},
   "outputs": [
    {
     "name": "stdout",
     "output_type": "stream",
     "text": [
      "# Conda environment specification. The dependencies defined in this file will\n",
      "\n",
      "# be automatically provisioned for runs with userManagedDependencies=False.\n",
      "\n",
      "\n",
      "# Details about the Conda environment file format:\n",
      "\n",
      "# https://conda.io/docs/user-guide/tasks/manage-environments.html#create-env-file-manually\n",
      "\n",
      "\n",
      "name: project_environment\n",
      "dependencies:\n",
      "  # The python interpreter version.\n",
      "\n",
      "  # Currently Azure ML only supports 3.5.2 and later.\n",
      "\n",
      "- python=3.6.2\n",
      "\n",
      "- pip:\n",
      "    # Required packages for AzureML execution, history, and data preparation.\n",
      "\n",
      "  - azureml-defaults\n",
      "- scikit-learn\n",
      "\n"
     ]
    }
   ],
   "source": [
    "secenv = CondaDependencies()\n",
    "secenv.add_conda_package(\"scikit-learn\")\n",
    "\n",
    "with open(\"secenv.yml\",\"w\") as f:\n",
    "    f.write(secenv.serialize_to_string())\n",
    "with open(\"secenv.yml\",\"r\") as f:\n",
    "    print(f.read())"
   ]
  },
  {
   "cell_type": "markdown",
   "metadata": {},
   "source": [
    "#### Create Azure ML Scoring file"
   ]
  },
  {
   "cell_type": "code",
   "execution_count": 136,
   "metadata": {},
   "outputs": [
    {
     "name": "stdout",
     "output_type": "stream",
     "text": [
      "Writing score.py\n"
     ]
    }
   ],
   "source": [
    "%%writefile score.py\n",
    "import json\n",
    "import numpy as np\n",
    "import os\n",
    "import pickle\n",
    "from sklearn.externals import joblib\n",
    "from sklearn.linear_model import LogisticRegression\n",
    "\n",
    "from azureml.core.model import Model\n",
    "\n",
    "def init():\n",
    "    global model\n",
    "    # retrieve the path to the model file using the model name\n",
    "    model_path = Model.get_model_path('modelo_secop')\n",
    "    model = joblib.load(model_path)\n",
    "\n",
    "def run(raw_data):\n",
    "    data = np.array(json.loads(raw_data)['data'])\n",
    "    # make prediction\n",
    "    proba_atraso = model.predict_proba(data)\n",
    "    return json.dumps(proba_atraso.tolist())"
   ]
  },
  {
   "cell_type": "markdown",
   "metadata": {},
   "source": [
    "#### Deploy the model to Azure Container Instance\n"
   ]
  },
  {
   "cell_type": "code",
   "execution_count": 137,
   "metadata": {},
   "outputs": [
    {
     "name": "stdout",
     "output_type": "stream",
     "text": [
      "Wall time: 1 ms\n"
     ]
    }
   ],
   "source": [
    "%%time\n",
    "image_config = ContainerImage.image_configuration(execution_script=\"score.py\", \n",
    "                                                  runtime=\"python\", \n",
    "                                                  conda_file=\"secenv.yml\")"
   ]
  },
  {
   "cell_type": "markdown",
   "metadata": {},
   "source": [
    "#### Expose web service"
   ]
  },
  {
   "cell_type": "code",
   "execution_count": 138,
   "metadata": {
    "scrolled": true
   },
   "outputs": [
    {
     "name": "stdout",
     "output_type": "stream",
     "text": [
      "Creating image\n",
      "Image creation operation finished for image secop-svc:1, operation \"Succeeded\"\n",
      "Creating service\n",
      "Running.................\n",
      "SucceededACI service creation operation finished, operation \"Succeeded\"\n"
     ]
    }
   ],
   "source": [
    "service = Webservice.deploy_from_model(workspace=ws,\n",
    "                                       name='secop-svc',\n",
    "                                       deployment_config=aciconfig,\n",
    "                                       models=[model],\n",
    "                                       image_config=image_config)\n",
    "\n",
    "service.wait_for_deployment(show_output=True)"
   ]
  },
  {
   "cell_type": "markdown",
   "metadata": {},
   "source": [
    "#### Get the Web Service URL"
   ]
  },
  {
   "cell_type": "code",
   "execution_count": 139,
   "metadata": {
    "scrolled": true
   },
   "outputs": [
    {
     "name": "stdout",
     "output_type": "stream",
     "text": [
      "http://40.65.169.92:80/score\n"
     ]
    }
   ],
   "source": [
    "print(service.scoring_uri)"
   ]
  },
  {
   "cell_type": "code",
   "execution_count": 141,
   "metadata": {},
   "outputs": [
    {
     "name": "stdout",
     "output_type": "stream",
     "text": [
      "{\"message\": \"Expects Content-Type to be application/json\"}\n"
     ]
    },
    {
     "name": "stderr",
     "output_type": "stream",
     "text": [
      "  % Total    % Received % Xferd  Average Speed   Time    Time     Time  Current\n",
      "                                 Dload  Upload   Total   Spent    Left  Speed\n",
      "\n",
      "  0     0    0     0    0     0      0      0 --:--:-- --:--:-- --:--:--     0\n",
      "  0     0    0     0    0     0      0      0 --:--:-- --:--:-- --:--:--     0\n",
      "100    73  100    58  100    15     80     20 --:--:-- --:--:-- --:--:--   108\n"
     ]
    }
   ],
   "source": [
    "!curl -X POST \\\n",
    "\t-H 'Content-Type:application/json' \\\n",
    "\t-d '{\"data\":[[45]]}' \\\n",
    "\thttp://40.65.169.92:80/score"
   ]
  },
  {
   "cell_type": "markdown",
   "metadata": {},
   "source": [
    "#### Delete Workspace and clean up resources"
   ]
  },
  {
   "cell_type": "code",
   "execution_count": 86,
   "metadata": {},
   "outputs": [],
   "source": [
    "ws.delete()"
   ]
  },
  {
   "cell_type": "code",
   "execution_count": null,
   "metadata": {},
   "outputs": [],
   "source": []
  }
 ],
 "metadata": {
  "kernelspec": {
   "display_name": "Python 3",
   "language": "python",
   "name": "python3"
  },
  "language_info": {
   "codemirror_mode": {
    "name": "ipython",
    "version": 3
   },
   "file_extension": ".py",
   "mimetype": "text/x-python",
   "name": "python",
   "nbconvert_exporter": "python",
   "pygments_lexer": "ipython3",
   "version": "3.7.1"
  }
 },
 "nbformat": 4,
 "nbformat_minor": 2
}

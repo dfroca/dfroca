{
  "nbformat": 4,
  "nbformat_minor": 0,
  "metadata": {
    "colab": {
      "name": "DV_JSONtoCSV.ipynb",
      "provenance": []
    },
    "kernelspec": {
      "name": "python3",
      "display_name": "Python 3"
    },
    "language_info": {
      "name": "python"
    }
  },
  "cells": [
    {
      "cell_type": "code",
      "source": [
        "from google.colab import drive\n",
        "drive.mount('/content/drive')\n"
      ],
      "metadata": {
        "id": "r2hoZm1CRH-W",
        "colab": {
          "base_uri": "https://localhost:8080/"
        },
        "outputId": "948f828c-00ea-45c6-9ce7-80bd503f897e"
      },
      "execution_count": null,
      "outputs": [
        {
          "output_type": "stream",
          "name": "stdout",
          "text": [
            "Mounted at /content/drive\n"
          ]
        }
      ]
    },
    {
      "cell_type": "code",
      "source": [
        "route = 'drive/MyDrive/DV_Data/'"
      ],
      "metadata": {
        "id": "gg6kOVGnSmGJ"
      },
      "execution_count": null,
      "outputs": []
    },
    {
      "cell_type": "code",
      "execution_count": null,
      "metadata": {
        "id": "YYWHqm7nJjpm",
        "outputId": "306f7cf6-5049-443b-f33a-1106687b20ee",
        "colab": {
          "base_uri": "https://localhost:8080/"
        }
      },
      "outputs": [
        {
          "output_type": "stream",
          "name": "stderr",
          "text": [
            "/usr/local/lib/python3.7/dist-packages/ipykernel_launcher.py:5: FutureWarning: pandas.io.json.json_normalize is deprecated, use pandas.json_normalize instead\n",
            "  \"\"\"\n"
          ]
        },
        {
          "output_type": "stream",
          "name": "stdout",
          "text": [
            "BR\n",
            "(117592, 19)\n"
          ]
        },
        {
          "output_type": "stream",
          "name": "stderr",
          "text": [
            "/usr/local/lib/python3.7/dist-packages/ipykernel_launcher.py:19: FutureWarning: pandas.io.json.json_normalize is deprecated, use pandas.json_normalize instead\n"
          ]
        },
        {
          "output_type": "stream",
          "name": "stdout",
          "text": [
            "CA\n",
            "(235136, 19)\n",
            "DE\n",
            "(352679, 19)\n",
            "FR\n",
            "(470270, 19)\n",
            "GB\n",
            "(587865, 19)\n",
            "IN\n",
            "(699606, 19)\n",
            "JP\n",
            "(817193, 19)\n",
            "KR\n",
            "(931747, 19)\n",
            "MX\n",
            "(1049146, 19)\n",
            "RU\n",
            "(1165207, 19)\n",
            "US\n",
            "(1282798, 19)\n",
            "Final:\n",
            "(1282798, 19)\n"
          ]
        }
      ],
      "source": [
        "import pandas as pd\n",
        "from pandas.io.json import json_normalize\n",
        "\n",
        "df_categories = pd.read_json (route + 'BR_category_id.json')\n",
        "df_categories = json_normalize(df_categories['items'])\n",
        "df_categories = df_categories[['id','snippet.title']]\n",
        "df_categories = df_categories.astype({\"id\": int})\n",
        "df_country = pd.read_csv(route + \"BR_youtube_trending_data.csv\")\n",
        "df_country['country'] = \"BR\"\n",
        "resulting_df = pd.merge(df_country, df_categories, how=\"left\", left_on='categoryId', right_on='id')\n",
        "\n",
        "print(\"BR\")\n",
        "print(resulting_df.shape)\n",
        "\n",
        "list_countries = ['CA','DE','FR','GB','IN','JP','KR','MX','RU','US']\n",
        "\n",
        "for n in list_countries:\n",
        "  df_categories = pd.read_json (route + \"\" + n + '_category_id.json')\n",
        "  df_categories = json_normalize(df_categories['items'])\n",
        "  df_categories = df_categories[['id','snippet.title']]\n",
        "  df_categories = df_categories.astype({\"id\": int})\n",
        "  df_country = pd.read_csv(route + \"\" + n + \"_youtube_trending_data.csv\")\n",
        "  df_country['country'] = n\n",
        "  res_df = pd.merge(df_country, df_categories, how=\"left\", left_on='categoryId', right_on='id')\n",
        "  resulting_df = resulting_df.append(res_df, ignore_index=True)\n",
        "  print(n)\n",
        "  print(resulting_df.shape)\n",
        "\n",
        "print(\"Final:\")\n",
        "print(resulting_df.shape)\n",
        "\n",
        "resulting_df = resulting_df[['video_id','publishedAt','channelId','categoryId','snippet.title',\n",
        "                             'trending_date','country','view_count', 'likes','dislikes',\n",
        "                             'comment_count','comments_disabled','ratings_disabled']]\n",
        "\n",
        "resulting_df.to_csv('merged_data.csv')\n",
        "\n"
      ]
    },
    {
      "cell_type": "code",
      "source": [
        "!cp merged_data.csv \"drive/My Drive/DV_Data/\""
      ],
      "metadata": {
        "id": "X_XDYyGiUc0d"
      },
      "execution_count": null,
      "outputs": []
    },
    {
      "cell_type": "code",
      "source": [
        ""
      ],
      "metadata": {
        "id": "U_IflxaLZt-m"
      },
      "execution_count": null,
      "outputs": []
    }
  ]
}
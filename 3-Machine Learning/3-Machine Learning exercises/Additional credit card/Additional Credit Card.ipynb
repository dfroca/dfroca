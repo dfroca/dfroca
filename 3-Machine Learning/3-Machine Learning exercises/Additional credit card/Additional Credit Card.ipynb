{
 "cells": [
  {
   "cell_type": "markdown",
   "metadata": {},
   "source": [
    "# **Modelo analítico para la campaña de tarjeta adicional con Python**"
   ]
  },
  {
   "cell_type": "markdown",
   "metadata": {},
   "source": [
    "## 1. Carga de fuentes de información\n",
    "### _El objetivo de esta sección es cargar los datos en el notebook y visualizar las características de las variables_"
   ]
  },
  {
   "cell_type": "code",
   "execution_count": 1,
   "metadata": {},
   "outputs": [
    {
     "name": "stdout",
     "output_type": "stream",
     "text": [
      "ID                     int64\n",
      "INGRESOS             float64\n",
      "EDAD                 float64\n",
      "GENERO                object\n",
      "ESTRATO              float64\n",
      "NO_PERSONAS_CARGO    float64\n",
      "DEPTO_RESIDENCIA      object\n",
      "EST_CIVIL             object\n",
      "TIENE_ADICIONAL      float64\n",
      "Unnamed: 9           float64\n",
      "Unnamed: 10          float64\n",
      "dtype: object\n"
     ]
    }
   ],
   "source": [
    "# Importar la librería pandas para la carga y entendimiento de la fuente de información. Adicionalmente importa\n",
    "# la librería Mathplotlib para realizar gráficas en caso de que se requiera, así como la librería numpy para convertir\n",
    "# las fuentes de datos en arreglos \n",
    "\n",
    "import pandas as pd\n",
    "import matplotlib.pyplot as plt\n",
    "import numpy as np\n",
    "\n",
    "# Se modifica el formato en el que se muestra la información con esta librería para evitar salidas en notación científica\n",
    "pd.options.display.float_format = '{:20,.2f}'.format\n",
    "\n",
    "# Se lee el archivo fuente y se guarda en la variable arch_fuente\n",
    "arch_fuente = pd.read_excel('./ADICIONALES MUESTRA ALEATORIA.xlsx',sheet_name='ADICIONALES MUESTRA ALEATORIA S')\n",
    "\n",
    "# Tipos de datos\n",
    "tipos_datos = arch_fuente.dtypes\n",
    "print(tipos_datos)\n"
   ]
  },
  {
   "cell_type": "markdown",
   "metadata": {},
   "source": [
    "## 2. Entendimiento de la data histórica y transformaciones\n",
    "### _El objetivo de esta sección es tener un entendimiento del set de datos y realizar las transformaciones necesarias para que los datos puedan utilizarse como soporte a las decisiones de la nueva campaña del Banco Falabella_"
   ]
  },
  {
   "cell_type": "code",
   "execution_count": 2,
   "metadata": {},
   "outputs": [],
   "source": [
    "# Se identificaron dos columnas que no corresponden al set de datos por lo cual se eliminan\n",
    "del arch_fuente['Unnamed: 9']\n",
    "del arch_fuente['Unnamed: 10']"
   ]
  },
  {
   "cell_type": "code",
   "execution_count": 3,
   "metadata": {},
   "outputs": [
    {
     "data": {
      "text/plain": [
       "ID                       0\n",
       "INGRESOS               203\n",
       "EDAD                   250\n",
       "GENERO                 256\n",
       "ESTRATO               3105\n",
       "NO_PERSONAS_CARGO      203\n",
       "DEPTO_RESIDENCIA       362\n",
       "EST_CIVIL              256\n",
       "TIENE_ADICIONAL      25000\n",
       "dtype: int64"
      ]
     },
     "execution_count": 3,
     "metadata": {},
     "output_type": "execute_result"
    }
   ],
   "source": [
    "# Se identifica si se encuentran valores faltantes.\n",
    "arch_fuente.isnull().sum()"
   ]
  },
  {
   "cell_type": "code",
   "execution_count": 4,
   "metadata": {},
   "outputs": [
    {
     "data": {
      "text/plain": [
       "ID                       0\n",
       "INGRESOS                 0\n",
       "EDAD                     0\n",
       "GENERO                   0\n",
       "ESTRATO               2728\n",
       "NO_PERSONAS_CARGO        0\n",
       "DEPTO_RESIDENCIA         0\n",
       "EST_CIVIL                0\n",
       "TIENE_ADICIONAL      24808\n",
       "dtype: int64"
      ]
     },
     "execution_count": 4,
     "metadata": {},
     "output_type": "execute_result"
    }
   ],
   "source": [
    "# Se eliminan los registros que tengan faltantes que no se puedan determinar mediante otros registros\n",
    "#como son el caso del género, el estado civil, los ingresos y la edad\n",
    "arch_fuente = arch_fuente.dropna(subset=(['INGRESOS','EDAD','GENERO','NO_PERSONAS_CARGO','DEPTO_RESIDENCIA','EST_CIVIL']))\n",
    "\n",
    "# Se vuelven a validar los valores faltantes.\n",
    "arch_fuente.isnull().sum()\n"
   ]
  },
  {
   "cell_type": "code",
   "execution_count": 5,
   "metadata": {},
   "outputs": [
    {
     "data": {
      "text/plain": [
       "<matplotlib.axes._subplots.AxesSubplot at 0x21b77d920b8>"
      ]
     },
     "execution_count": 5,
     "metadata": {},
     "output_type": "execute_result"
    },
    {
     "data": {
      "image/png": "[encoded data removed]",
      "text/plain": [
       "<Figure size 432x288 with 1 Axes>"
      ]
     },
     "metadata": {
      "needs_background": "light"
     },
     "output_type": "display_data"
    }
   ],
   "source": [
    "# Se grafican los boxplot como apoyo para la toma de decisiones respecto al manejo de los valores atípicos para las\n",
    "# variables que se muestran a continuación:\n",
    "\n",
    "arch_fuente.boxplot(column=['INGRESOS'])"
   ]
  },
  {
   "cell_type": "code",
   "execution_count": 6,
   "metadata": {},
   "outputs": [
    {
     "data": {
      "text/plain": [
       "<matplotlib.axes._subplots.AxesSubplot at 0x21b78490b38>"
      ]
     },
     "execution_count": 6,
     "metadata": {},
     "output_type": "execute_result"
    },
    {
     "data": {
      "image/png": "[encoded data removed]",
      "text/plain": [
       "<Figure size 432x288 with 1 Axes>"
      ]
     },
     "metadata": {
      "needs_background": "light"
     },
     "output_type": "display_data"
    }
   ],
   "source": [
    "arch_fuente.boxplot(column=['EDAD'])"
   ]
  },
  {
   "cell_type": "code",
   "execution_count": 7,
   "metadata": {},
   "outputs": [
    {
     "data": {
      "text/plain": [
       "<matplotlib.axes._subplots.AxesSubplot at 0x21b77f1bc50>"
      ]
     },
     "execution_count": 7,
     "metadata": {},
     "output_type": "execute_result"
    },
    {
     "data": {
      "image/png": "[encoded data removed]",
      "text/plain": [
       "<Figure size 432x288 with 1 Axes>"
      ]
     },
     "metadata": {
      "needs_background": "light"
     },
     "output_type": "display_data"
    }
   ],
   "source": [
    "arch_fuente.boxplot(column=['NO_PERSONAS_CARGO'])"
   ]
  },
  {
   "cell_type": "code",
   "execution_count": 8,
   "metadata": {},
   "outputs": [],
   "source": [
    "# Supuesto 1: Al identificar registros con ingresos atípicos por el valor del salario mínimo legal vigente en Colombia,\n",
    "# a criterio de invalidez de estos datos para el modelo, se decide eliminar estos registros debido a que pueden llevar\n",
    "# a tomar decisiones equivocadas.\n",
    "\n",
    "arch_fuente = arch_fuente.drop(arch_fuente[arch_fuente.INGRESOS < 150000].index)\n",
    "\n",
    "# Supuesto 2: Al identificar registros con cantidad de personas a cargo atípico como es el caso de los valores que \n",
    "# son mayores de 20, se eliminan estos registros para el modelo dedibo a que pueden llevar a tomar decisiones\n",
    "# equivocadas.\n",
    "\n",
    "arch_fuente = arch_fuente.drop(arch_fuente[arch_fuente.NO_PERSONAS_CARGO > 20].index)\n",
    "\n",
    "# Supuesto 3: Considerando la imposibilidad del negocio para ofrecer productos financieros a menores de edad directamente, \n",
    "# se decide eliminar los registros con valores menores a 18 años así como los que superan los 95 años por restricción\n",
    "# biológica ya que los valores superiores pueden corresponder a hallazgos de calidad de datos\n",
    "\n",
    "arch_fuente = arch_fuente.drop(arch_fuente[arch_fuente.EDAD < 18].index)\n",
    "arch_fuente = arch_fuente.drop(arch_fuente[arch_fuente.EDAD > 95].index)"
   ]
  },
  {
   "cell_type": "code",
   "execution_count": 9,
   "metadata": {},
   "outputs": [
    {
     "name": "stdout",
     "output_type": "stream",
     "text": [
      "    DEPTO_RESIDENCIA              ESTRATO                   ID  \\\n",
      "0           AMAZONAS                 3.00         3,934,545.50   \n",
      "1           AMAZONAS                 4.00         4,869,187.00   \n",
      "2           AMAZONAS                 5.00         3,449,613.00   \n",
      "3          ANTIOQUIA                 1.00         5,031,497.45   \n",
      "4          ANTIOQUIA                 2.00         4,554,765.99   \n",
      "5          ANTIOQUIA                 3.00         5,000,367.27   \n",
      "6          ANTIOQUIA                 4.00         4,940,630.59   \n",
      "7          ANTIOQUIA                 5.00         4,879,365.82   \n",
      "8          ANTIOQUIA                 6.00         5,162,152.01   \n",
      "9             ARAUCA                 2.00         1,492,045.50   \n",
      "10            ARAUCA                 3.00         4,559,744.09   \n",
      "11            ARAUCA                 4.00         5,108,775.33   \n",
      "12            ARAUCA                 5.00         4,874,829.50   \n",
      "13            ARAUCA                 6.00         3,923,322.00   \n",
      "14         ATLANTICO                 1.00         4,556,387.39   \n",
      "15         ATLANTICO                 2.00         4,925,288.78   \n",
      "16         ATLANTICO                 3.00         4,785,495.67   \n",
      "17         ATLANTICO                 4.00         4,893,600.92   \n",
      "18         ATLANTICO                 5.00         5,305,342.71   \n",
      "19         ATLANTICO                 6.00         5,049,379.10   \n",
      "20           BOLIVAR                 1.00         4,932,758.89   \n",
      "21           BOLIVAR                 2.00         5,199,446.80   \n",
      "22           BOLIVAR                 3.00         4,901,336.28   \n",
      "23           BOLIVAR                 4.00         5,065,747.66   \n",
      "24           BOLIVAR                 5.00         5,279,132.23   \n",
      "25           BOLIVAR                 6.00         5,119,215.28   \n",
      "26            BOYACA                 1.00         4,630,321.00   \n",
      "27            BOYACA                 2.00         5,674,425.33   \n",
      "28            BOYACA                 3.00         5,106,698.69   \n",
      "29            BOYACA                 4.00         4,984,573.92   \n",
      "..               ...                  ...                  ...   \n",
      "131        RISARALDA                 6.00         5,167,621.87   \n",
      "132       SAN ANDRÉS                 3.00         5,463,131.67   \n",
      "133       SAN ANDRÉS                 4.00         6,611,269.00   \n",
      "134       SAN ANDRÉS                 5.00         8,003,300.00   \n",
      "135       SAN ANDRÉS                 6.00         4,831,394.00   \n",
      "136        SANTANDER                 1.00         5,120,952.83   \n",
      "137        SANTANDER                 2.00         5,172,860.83   \n",
      "138        SANTANDER                 3.00         5,123,666.88   \n",
      "139        SANTANDER                 4.00         5,030,675.85   \n",
      "140        SANTANDER                 5.00         5,203,160.83   \n",
      "141        SANTANDER                 6.00         5,775,382.28   \n",
      "142            SUCRE                 1.00         6,446,523.82   \n",
      "143            SUCRE                 2.00         5,345,629.20   \n",
      "144            SUCRE                 3.00         5,237,346.77   \n",
      "145            SUCRE                 4.00         5,051,990.30   \n",
      "146            SUCRE                 5.00         5,869,316.80   \n",
      "147            SUCRE                 6.00         5,712,379.75   \n",
      "148           TOLIMA                 1.00         5,697,998.25   \n",
      "149           TOLIMA                 2.00         4,923,634.95   \n",
      "150           TOLIMA                 3.00         5,021,285.48   \n",
      "151           TOLIMA                 4.00         5,192,061.11   \n",
      "152           TOLIMA                 5.00         4,899,586.89   \n",
      "153           TOLIMA                 6.00         6,536,893.83   \n",
      "154  VALLE DEL CAUCA                 1.00         4,802,066.12   \n",
      "155  VALLE DEL CAUCA                 2.00         4,936,374.59   \n",
      "156  VALLE DEL CAUCA                 3.00         5,048,270.27   \n",
      "157  VALLE DEL CAUCA                 4.00         5,087,453.33   \n",
      "158  VALLE DEL CAUCA                 5.00         5,188,594.67   \n",
      "159  VALLE DEL CAUCA                 6.00         4,977,713.52   \n",
      "160           VAUPÉS                 4.00           953,418.00   \n",
      "\n",
      "                INGRESOS                 EDAD    NO_PERSONAS_CARGO  \\\n",
      "0          13,750,000.00                52.00                 1.50   \n",
      "1           5,750,000.00                33.50                 0.00   \n",
      "2           6,000,000.00                42.00                 0.00   \n",
      "3           4,674,553.16                44.55                 0.33   \n",
      "4           2,451,742.91                43.54                 0.75   \n",
      "5           3,195,335.41                46.55                 0.53   \n",
      "6           4,496,786.56                49.38                 0.51   \n",
      "7           5,436,735.53                50.72                 0.54   \n",
      "8           7,624,863.17                52.90                 0.55   \n",
      "9           1,279,500.00                35.50                 3.00   \n",
      "10          9,434,636.36                38.64                 0.55   \n",
      "11          5,500,000.00                39.67                 0.17   \n",
      "12          5,000,000.00                37.00                 0.50   \n",
      "13          4,000,000.00                52.00                 1.00   \n",
      "14          5,239,143.90                45.76                 0.51   \n",
      "15          2,985,032.23                45.62                 0.86   \n",
      "16          3,542,875.01                47.77                 0.69   \n",
      "17          4,981,512.55                49.40                 0.70   \n",
      "18          5,338,120.49                50.25                 0.72   \n",
      "19         10,781,714.39                52.07                 0.66   \n",
      "20          3,393,942.83                45.00                 0.72   \n",
      "21          2,553,861.07                47.22                 1.06   \n",
      "22          3,819,219.63                46.97                 0.78   \n",
      "23          5,008,883.40                49.26                 0.90   \n",
      "24          5,914,059.88                53.10                 0.71   \n",
      "25         11,901,982.57                52.88                 0.59   \n",
      "26          3,845,714.29                52.86                 0.29   \n",
      "27          2,934,047.62                44.33                 1.10   \n",
      "28          4,259,702.75                47.96                 0.66   \n",
      "29          5,753,804.74                48.56                 0.53   \n",
      "..                   ...                  ...                  ...   \n",
      "131         6,445,943.53                53.00                 0.48   \n",
      "132         3,908,333.33                47.33                 0.00   \n",
      "133         5,200,000.00                48.00                 0.00   \n",
      "134         4,000,000.00                35.00                 0.00   \n",
      "135         4,000,000.00                28.00                 0.00   \n",
      "136         4,657,729.26                46.81                 0.14   \n",
      "137         3,316,063.07                45.79                 0.90   \n",
      "138         3,910,759.18                45.77                 0.54   \n",
      "139         5,218,986.03                47.34                 0.45   \n",
      "140         7,029,401.82                49.11                 0.49   \n",
      "141        10,440,281.62                54.87                 0.43   \n",
      "142         4,971,272.73                46.27                 0.82   \n",
      "143         6,043,625.90                48.40                 0.80   \n",
      "144         7,403,500.00                49.17                 0.93   \n",
      "145         6,677,000.00                45.75                 1.10   \n",
      "146         5,880,000.00                48.20                 0.20   \n",
      "147        19,325,000.00                54.75                 0.50   \n",
      "148         3,565,763.08                47.28                 0.08   \n",
      "149         2,899,553.19                48.52                 0.51   \n",
      "150         4,005,904.63                49.46                 0.49   \n",
      "151         4,858,413.52                51.04                 0.43   \n",
      "152         7,307,320.16                53.79                 0.47   \n",
      "153         6,750,000.00                52.67                 1.00   \n",
      "154         3,964,723.79                45.19                 0.42   \n",
      "155         2,605,925.51                44.38                 0.80   \n",
      "156         3,212,309.10                47.98                 0.51   \n",
      "157         4,054,230.97                49.22                 0.38   \n",
      "158         5,469,154.72                52.18                 0.42   \n",
      "159         8,280,513.35                54.26                 0.43   \n",
      "160         1,780,000.00                46.00                 0.00   \n",
      "\n",
      "         TIENE_ADICIONAL  \n",
      "0                   0.00  \n",
      "1                   0.00  \n",
      "2                   0.00  \n",
      "3                   0.12  \n",
      "4                   0.12  \n",
      "5                   0.15  \n",
      "6                   0.21  \n",
      "7                   0.19  \n",
      "8                   0.23  \n",
      "9                   0.00  \n",
      "10                  0.00  \n",
      "11                  0.33  \n",
      "12                  0.00  \n",
      "13                  0.00  \n",
      "14                  0.10  \n",
      "15                  0.12  \n",
      "16                  0.22  \n",
      "17                  0.19  \n",
      "18                  0.24  \n",
      "19                  0.28  \n",
      "20                  0.33  \n",
      "21                  0.12  \n",
      "22                  0.19  \n",
      "23                  0.24  \n",
      "24                  0.27  \n",
      "25                  0.19  \n",
      "26                  0.00  \n",
      "27                  0.22  \n",
      "28                  0.13  \n",
      "29                  0.09  \n",
      "..                   ...  \n",
      "131                 0.34  \n",
      "132                 0.00  \n",
      "133                  nan  \n",
      "134                  nan  \n",
      "135                 0.00  \n",
      "136                 0.18  \n",
      "137                 0.10  \n",
      "138                 0.15  \n",
      "139                 0.11  \n",
      "140                 0.14  \n",
      "141                 0.21  \n",
      "142                 0.50  \n",
      "143                 0.00  \n",
      "144                 0.27  \n",
      "145                 0.09  \n",
      "146                 0.00  \n",
      "147                 0.00  \n",
      "148                 0.00  \n",
      "149                 0.05  \n",
      "150                 0.18  \n",
      "151                 0.21  \n",
      "152                 0.27  \n",
      "153                 1.00  \n",
      "154                 0.20  \n",
      "155                 0.12  \n",
      "156                 0.16  \n",
      "157                 0.17  \n",
      "158                 0.22  \n",
      "159                 0.25  \n",
      "160                 0.00  \n",
      "\n",
      "[161 rows x 7 columns]\n"
     ]
    }
   ],
   "source": [
    "# Supuesto 4: Se asume que para calcular los ingresos promedio por departamento y estrato\n",
    "# se cuenta con toda la base de información (tanto la histórica, como la que se quiere utilizar\n",
    "# para ofrecer la tarjeta adicional).\n",
    "\n",
    "# Se obtiene el promedio de ingresos por estrato y por departamento de residencia para poder calcular\n",
    "# el estrato de los registros con missing values.\n",
    "estim_estrato = arch_fuente.groupby(['DEPTO_RESIDENCIA','ESTRATO'],as_index=False).mean()\n",
    "\n",
    "print(estim_estrato)\n",
    "\n",
    "# Se extraen los registros que tienen el estrato faltante \n",
    "estr_faltante = arch_fuente[arch_fuente.ESTRATO.isnull()]\n",
    "\n",
    "# Se eliminan los registros con estrato faltante para evitar la duplicidad de datos más adelante ya que estros\n",
    "# ya se encuentran en el data frame estr_faltante\n",
    "arch_fuente = arch_fuente.dropna(subset=(['ESTRATO']))"
   ]
  },
  {
   "cell_type": "code",
   "execution_count": 10,
   "metadata": {},
   "outputs": [],
   "source": [
    "# Se hace una iteración en los registros con estrato faltante y con la información de ingreso promedio\n",
    "# agrupada por departamento y por estrato se identifica cual es el estrato con menor diferencia para ese\n",
    "# nivel de ingresos en el departamento\n",
    "\n",
    "estr_calculados = pd.DataFrame(columns=['ID','INGRESOS','EDAD','GENERO','ESTRATO','NO_PERSONAS_CARGO','DEPTO_RESIDENCIA','EST_CIVIL','TIENE_ADICIONAL'])\n",
    "\n",
    "i = 0\n",
    "for indiceF, filaF in estr_faltante.iterrows():\n",
    "    incomeF = filaF['INGRESOS']\n",
    "    deptF = filaF['DEPTO_RESIDENCIA']\n",
    "    minDif = 100000000000\n",
    "    estrato = 10\n",
    "    \n",
    "    for indiceE, filaE in estim_estrato.iterrows():           \n",
    "        incomeE = filaE['INGRESOS']\n",
    "        estE = filaE['ESTRATO']\n",
    "        deptE = filaE['DEPTO_RESIDENCIA']\n",
    "        \n",
    "        if deptE == deptF and abs(incomeE - incomeF) < minDif:\n",
    "                minDif = abs(incomeE - incomeF)\n",
    "                estrato = estE\n",
    "        \n",
    "    if estrato != 10:\n",
    "        estr_calculados.loc[i] = [filaF['ID'],filaF['INGRESOS'],filaF['EDAD'],filaF['GENERO'],estrato,filaF['NO_PERSONAS_CARGO'],filaF['DEPTO_RESIDENCIA'],filaF['EST_CIVIL'],filaF['TIENE_ADICIONAL']]\n",
    "        i = i+1\n",
    "        "
   ]
  },
  {
   "cell_type": "code",
   "execution_count": 11,
   "metadata": {},
   "outputs": [],
   "source": [
    "# Concatena los dos Data Frame, el primero que tiene los datos con estrato desde la fuente y \n",
    "# el segundo que tiene los datos con estrato calculado con base en el código anterior.\n",
    "\n",
    "arch_fuente = pd.concat([arch_fuente, estr_calculados])"
   ]
  },
  {
   "cell_type": "code",
   "execution_count": 12,
   "metadata": {},
   "outputs": [],
   "source": [
    "# Las variables categóricas deben ser transformadas a dummies antes de utilizarse en un modelo analítico\n",
    "# de clasificación binaria con la variable objetivo tiene adicional\n",
    "\n",
    "arch_fuente = pd.get_dummies(arch_fuente, columns=['GENERO','DEPTO_RESIDENCIA','EST_CIVIL'])\n"
   ]
  },
  {
   "cell_type": "code",
   "execution_count": 13,
   "metadata": {},
   "outputs": [],
   "source": [
    "# Se selecciona solamente la data histórica para el entrenamiento del modelo, es decir la data donde la variable\n",
    "# TIENE_ADICIONAL no es null\n",
    "dataset_train = arch_fuente.dropna(subset=['TIENE_ADICIONAL'])\n",
    "\n",
    "dataset_train = dataset_train.drop('ID', axis = 1)\n",
    "\n",
    "# Se selecciona solamente la data sobre la cual se va a probar el modelo después de entrenar y evaluar el modelo con la\n",
    "# data histórica\n",
    "dataset_pred = arch_fuente[arch_fuente.TIENE_ADICIONAL.isnull()]\n"
   ]
  },
  {
   "cell_type": "code",
   "execution_count": 14,
   "metadata": {},
   "outputs": [
    {
     "name": "stdout",
     "output_type": "stream",
     "text": [
      "                  INGRESOS                 EDAD              ESTRATO  \\\n",
      "count            24,531.00            24,531.00            24,531.00   \n",
      "mean          4,522,681.78                47.90                 3.51   \n",
      "std           9,037,036.30                12.84                 1.09   \n",
      "min             150,000.00                19.00                 1.00   \n",
      "25%           2,000,000.00                38.00                 3.00   \n",
      "50%           3,000,000.00                47.00                 3.00   \n",
      "75%           5,000,000.00                57.00                 4.00   \n",
      "max         807,000,000.00                95.00                 6.00   \n",
      "\n",
      "         NO_PERSONAS_CARGO      TIENE_ADICIONAL      GENERO_FEMENINO  \\\n",
      "count            24,531.00            24,531.00            24,531.00   \n",
      "mean                  0.58                 0.17                 0.49   \n",
      "std                   0.89                 0.37                 0.50   \n",
      "min                   0.00                 0.00                 0.00   \n",
      "25%                   0.00                 0.00                 0.00   \n",
      "50%                   0.00                 0.00                 0.00   \n",
      "75%                   1.00                 0.00                 1.00   \n",
      "max                  12.00                 1.00                 1.00   \n",
      "\n",
      "          GENERO_MASCULINO  DEPTO_RESIDENCIA_AMAZONAS  \\\n",
      "count            24,531.00                  24,531.00   \n",
      "mean                  0.51                       0.00   \n",
      "std                   0.50                       0.01   \n",
      "min                   0.00                       0.00   \n",
      "25%                   0.00                       0.00   \n",
      "50%                   1.00                       0.00   \n",
      "75%                   1.00                       0.00   \n",
      "max                   1.00                       1.00   \n",
      "\n",
      "       DEPTO_RESIDENCIA_ANTIOQUIA  DEPTO_RESIDENCIA_ARAUCA  \\\n",
      "count                   24,531.00                24,531.00   \n",
      "mean                         0.17                     0.00   \n",
      "std                          0.37                     0.03   \n",
      "min                          0.00                     0.00   \n",
      "25%                          0.00                     0.00   \n",
      "50%                          0.00                     0.00   \n",
      "75%                          0.00                     0.00   \n",
      "max                          1.00                     1.00   \n",
      "\n",
      "              ...           DEPTO_RESIDENCIA_SANTANDER  \\\n",
      "count         ...                            24,531.00   \n",
      "mean          ...                                 0.04   \n",
      "std           ...                                 0.19   \n",
      "min           ...                                 0.00   \n",
      "25%           ...                                 0.00   \n",
      "50%           ...                                 0.00   \n",
      "75%           ...                                 0.00   \n",
      "max           ...                                 1.00   \n",
      "\n",
      "       DEPTO_RESIDENCIA_SUCRE  DEPTO_RESIDENCIA_TOLIMA  \\\n",
      "count               24,531.00                24,531.00   \n",
      "mean                     0.00                     0.03   \n",
      "std                      0.04                     0.17   \n",
      "min                      0.00                     0.00   \n",
      "25%                      0.00                     0.00   \n",
      "50%                      0.00                     0.00   \n",
      "75%                      0.00                     0.00   \n",
      "max                      1.00                     1.00   \n",
      "\n",
      "       DEPTO_RESIDENCIA_VALLE DEL CAUCA  DEPTO_RESIDENCIA_VAUPÉS  \\\n",
      "count                         24,531.00                24,531.00   \n",
      "mean                               0.11                     0.00   \n",
      "std                                0.31                     0.01   \n",
      "min                                0.00                     0.00   \n",
      "25%                                0.00                     0.00   \n",
      "50%                                0.00                     0.00   \n",
      "75%                                0.00                     0.00   \n",
      "max                                1.00                     1.00   \n",
      "\n",
      "        EST_CIVIL_CASADO/A  EST_CIVIL_DIVORCIADO/SEPARADO  \\\n",
      "count            24,531.00                      24,531.00   \n",
      "mean                  0.42                           0.05   \n",
      "std                   0.49                           0.22   \n",
      "min                   0.00                           0.00   \n",
      "25%                   0.00                           0.00   \n",
      "50%                   0.00                           0.00   \n",
      "75%                   1.00                           0.00   \n",
      "max                   1.00                           1.00   \n",
      "\n",
      "       EST_CIVIL_SOLTERO/A  EST_CIVIL_UNION LIBRE    EST_CIVIL_VIUDO/A  \n",
      "count            24,531.00              24,531.00            24,531.00  \n",
      "mean                  0.39                   0.11                 0.02  \n",
      "std                   0.49                   0.31                 0.15  \n",
      "min                   0.00                   0.00                 0.00  \n",
      "25%                   0.00                   0.00                 0.00  \n",
      "50%                   0.00                   0.00                 0.00  \n",
      "75%                   1.00                   0.00                 0.00  \n",
      "max                   1.00                   1.00                 1.00  \n",
      "\n",
      "[8 rows x 43 columns]\n"
     ]
    }
   ],
   "source": [
    "# Se visualizan las estadisticas descriptivas de las variables numéricas del set de datos\n",
    "descriptivas = dataset_train.describe()\n",
    "print(descriptivas)\n"
   ]
  },
  {
   "cell_type": "code",
   "execution_count": 15,
   "metadata": {},
   "outputs": [
    {
     "name": "stdout",
     "output_type": "stream",
     "text": [
      "TIENE_ADICIONAL\n",
      "0.00    20400\n",
      "1.00     4131\n",
      "dtype: int64\n"
     ]
    },
    {
     "data": {
      "image/png": "[encoded data removed]",
      "text/plain": [
       "<Figure size 432x288 with 1 Axes>"
      ]
     },
     "metadata": {
      "needs_background": "light"
     },
     "output_type": "display_data"
    }
   ],
   "source": [
    "# Se realiza un recuento de las ocurrencias de la variable objetivo para el modelo TIENE_ADICIONAL\n",
    "# Se puede visualizar que durante el modelado es necesario tener en cuenta el oversampling para lo cual es necesario\n",
    "# realizar unos ajustes al set de entrenamiento\n",
    "\n",
    "clasesTieneAdicional = dataset_train.groupby('TIENE_ADICIONAL').size()\n",
    "print(clasesTieneAdicional)\n",
    "\n",
    "plt.hist(dataset_train['TIENE_ADICIONAL'])\n",
    "plt.show()"
   ]
  },
  {
   "cell_type": "markdown",
   "metadata": {},
   "source": [
    "## 3. Modelado\n",
    "### _El objetivo de esta sección es entrenar y evaluar el modelo analítico que en este caso se va a probar con un random forest classifier_"
   ]
  },
  {
   "cell_type": "code",
   "execution_count": 16,
   "metadata": {},
   "outputs": [],
   "source": [
    "# Se importan las librerías para utilizar el modelo Random Forest para una variable objetivo binaria, la librería\n",
    "# que permite hacer el split de los datos para el set de prueba y de evaluación, las de las métricas del modelo y\n",
    "# la librería que permite dar un manejo al over-sampling con el algoritmo SMOTE.\n",
    "\n",
    "from sklearn.ensemble import RandomForestClassifier\n",
    "from sklearn.model_selection import train_test_split\n",
    "from sklearn.metrics import recall_score\n",
    "from sklearn.metrics import accuracy_score\n",
    "from sklearn.metrics import confusion_matrix\n",
    "from imblearn.over_sampling import SMOTE\n",
    "\n",
    "# Se dividen los sets de datos de entrenamiento y con un 80% y 20% respectivamente \n",
    "train_x, eval_x, \\\n",
    "train_y, eval_y, = train_test_split(dataset_train.drop(['TIENE_ADICIONAL'], axis=1),\n",
    "                                               dataset_train['TIENE_ADICIONAL'],\n",
    "                                               test_size = .2,\n",
    "                                               random_state=19)"
   ]
  },
  {
   "cell_type": "code",
   "execution_count": 17,
   "metadata": {},
   "outputs": [],
   "source": [
    "# Se utiliza el algoritmo SMOTE para manejar el oversampling\n",
    "# Los sets de entrenamiento se ajustan para poder tomar decisiones de manera adecuada con la información disponible.\n",
    "\n",
    "sm = SMOTE(random_state=19, ratio = 1.0)\n",
    "train_x_sm, train_y_sm = sm.fit_sample(train_x, train_y)"
   ]
  },
  {
   "cell_type": "code",
   "execution_count": 18,
   "metadata": {},
   "outputs": [
    {
     "data": {
      "text/plain": [
       "RandomForestClassifier(bootstrap=True, class_weight=None, criterion='gini',\n",
       "            max_depth=None, max_features='auto', max_leaf_nodes=None,\n",
       "            min_impurity_decrease=0.0, min_impurity_split=None,\n",
       "            min_samples_leaf=1, min_samples_split=2,\n",
       "            min_weight_fraction_leaf=0.0, n_estimators=100, n_jobs=None,\n",
       "            oob_score=False, random_state=19, verbose=0, warm_start=False)"
      ]
     },
     "execution_count": 18,
     "metadata": {},
     "output_type": "execute_result"
    }
   ],
   "source": [
    "# Una vez modificados los sets de entrenamiento para manejar el oversampling se procede a entrenar el modelo analítico\n",
    "\n",
    "rf = RandomForestClassifier(n_estimators = 100, random_state = 19)\n",
    "rf.fit(train_x_sm, train_y_sm)"
   ]
  },
  {
   "cell_type": "markdown",
   "metadata": {},
   "source": [
    "## 4. Evaluación y análisis de resultados\n",
    "### _El objetivo de esta sección es evaluar el modelo entrenado con los datos de prueba y analizar los resultados obtenidos_"
   ]
  },
  {
   "cell_type": "code",
   "execution_count": 19,
   "metadata": {},
   "outputs": [
    {
     "name": "stdout",
     "output_type": "stream",
     "text": [
      "Precisión y matriz de confusión: 0.7923374770735684\n",
      "[[3809  758]\n",
      " [ 261   79]]\n"
     ]
    }
   ],
   "source": [
    "# Predecir los datos de prueba con el modelo entrenado\n",
    "predicciones = rf.predict(eval_x)\n",
    "\n",
    "# Se obtienen dos métricas con base en las predicciones\n",
    "print('Precisión y matriz de confusión:', accuracy_score(predicciones,eval_y))\n",
    "print(confusion_matrix(predicciones,eval_y))\n",
    "\n",
    "# Se presenta un modelo con un 81% de precisión de los datos evaluados. \n"
   ]
  },
  {
   "cell_type": "code",
   "execution_count": 20,
   "metadata": {},
   "outputs": [
    {
     "name": "stdout",
     "output_type": "stream",
     "text": [
      "Variable: INGRESOS   Importance: 0.15\n",
      "Variable: EDAD       Importance: 0.14\n",
      "Variable: EST_CIVIL_CASADO/A Importance: 0.09\n",
      "Variable: ESTRATO    Importance: 0.08\n",
      "Variable: NO_PERSONAS_CARGO Importance: 0.08\n",
      "Variable: EST_CIVIL_SOLTERO/A Importance: 0.08\n",
      "Variable: GENERO_FEMENINO Importance: 0.07\n",
      "Variable: GENERO_MASCULINO Importance: 0.07\n",
      "Variable: DEPTO_RESIDENCIA_CUNDINAMARCA Importance: 0.07\n",
      "Variable: DEPTO_RESIDENCIA_ANTIOQUIA Importance: 0.04\n",
      "Variable: DEPTO_RESIDENCIA_VALLE DEL CAUCA Importance: 0.03\n",
      "Variable: EST_CIVIL_UNION LIBRE Importance: 0.03\n",
      "Variable: DEPTO_RESIDENCIA_ATLANTICO Importance: 0.01\n",
      "Variable: DEPTO_RESIDENCIA_BOLIVAR Importance: 0.01\n",
      "Variable: DEPTO_RESIDENCIA_RISARALDA Importance: 0.01\n",
      "Variable: DEPTO_RESIDENCIA_SANTANDER Importance: 0.01\n",
      "Variable: DEPTO_RESIDENCIA_TOLIMA Importance: 0.01\n",
      "Variable: EST_CIVIL_DIVORCIADO/SEPARADO Importance: 0.01\n",
      "Variable: DEPTO_RESIDENCIA_AMAZONAS Importance: 0.0\n",
      "Variable: DEPTO_RESIDENCIA_ARAUCA Importance: 0.0\n",
      "Variable: DEPTO_RESIDENCIA_BOYACA Importance: 0.0\n",
      "Variable: DEPTO_RESIDENCIA_CALDAS Importance: 0.0\n",
      "Variable: DEPTO_RESIDENCIA_CAQUETÁ Importance: 0.0\n",
      "Variable: DEPTO_RESIDENCIA_CASANARE Importance: 0.0\n",
      "Variable: DEPTO_RESIDENCIA_CAUCA Importance: 0.0\n",
      "Variable: DEPTO_RESIDENCIA_CESAR Importance: 0.0\n",
      "Variable: DEPTO_RESIDENCIA_CHOCÓ Importance: 0.0\n",
      "Variable: DEPTO_RESIDENCIA_CÓRDOBA Importance: 0.0\n",
      "Variable: DEPTO_RESIDENCIA_GUANÍA Importance: 0.0\n",
      "Variable: DEPTO_RESIDENCIA_GUAVIARE Importance: 0.0\n",
      "Variable: DEPTO_RESIDENCIA_HUILA Importance: 0.0\n",
      "Variable: DEPTO_RESIDENCIA_LA GUAJIRA Importance: 0.0\n",
      "Variable: DEPTO_RESIDENCIA_MAGDALENA Importance: 0.0\n",
      "Variable: DEPTO_RESIDENCIA_META Importance: 0.0\n",
      "Variable: DEPTO_RESIDENCIA_NARIÑO Importance: 0.0\n",
      "Variable: DEPTO_RESIDENCIA_NORTE DE SANTANDER Importance: 0.0\n",
      "Variable: DEPTO_RESIDENCIA_PUTUMAYO Importance: 0.0\n",
      "Variable: DEPTO_RESIDENCIA_QUINDIO Importance: 0.0\n",
      "Variable: DEPTO_RESIDENCIA_SAN ANDRÉS Importance: 0.0\n",
      "Variable: DEPTO_RESIDENCIA_SUCRE Importance: 0.0\n",
      "Variable: DEPTO_RESIDENCIA_VAUPÉS Importance: 0.0\n",
      "Variable: EST_CIVIL_VIUDO/A Importance: 0.0\n"
     ]
    }
   ],
   "source": [
    "# A continuación se van a análizar cuales son las variables mas importantes para explicar el motivo por el cual un cliente\n",
    "# adquiere una tarjeta adicional o no.\n",
    "\n",
    "# Computar las importancias de las distintas variables en el arbol\n",
    "importancias = list(rf.feature_importances_)\n",
    "\n",
    "# Tuplas de variables e importancia de las mismas\n",
    "lista_variables = dataset_train.drop(['TIENE_ADICIONAL'], axis=1)\n",
    "\n",
    "feature_importances = [(feature, round(importance,2))for feature, importance in zip(lista_variables, importancias)] \n",
    "\n",
    "# Ordenar las tuplas por importancia\n",
    "feature_importances = sorted(feature_importances, key = lambda x:x[1], reverse = True)\n",
    "\n",
    "# Mostrar las importancias\n",
    "[print ('Variable: {:10} Importance: {}'.format(*pair)) for pair in feature_importances];\n",
    "\n",
    "# En esta salida se evidencia la importancia de los ingresos y edad de una persona para que acepten o no acepten \n",
    "# adquirir una nueva tarjeta de crédito"
   ]
  },
  {
   "cell_type": "code",
   "execution_count": 21,
   "metadata": {},
   "outputs": [],
   "source": [
    "# Se guarda una columna con los ID de usuarios que se va a predecir la probabilidad de que adquieran un producto\n",
    "# determinado.\n",
    "ids = np.array(dataset_pred['ID'])\n",
    "\n",
    "# se van a eliminar las columnas que no hacen parte del modelo predictivo\n",
    "del dataset_pred['TIENE_ADICIONAL']\n",
    "del dataset_pred['ID']"
   ]
  },
  {
   "cell_type": "code",
   "execution_count": 22,
   "metadata": {},
   "outputs": [],
   "source": [
    "# Se guardan las probabilidades de que las observaciones del set de datos a predecir adquieran\n",
    "# los nuevos productos del Banco Falabella\n",
    "\n",
    "probabilidades = rf.predict_proba(dataset_pred)\n",
    "probabilidades = probabilidades[:,1]"
   ]
  },
  {
   "cell_type": "code",
   "execution_count": 23,
   "metadata": {},
   "outputs": [],
   "source": [
    "# Se hace un producto cruz entre los identificadores y las probabilidades\n",
    "probaCliente = np.vstack([ids,probabilidades]).T\n"
   ]
  },
  {
   "cell_type": "code",
   "execution_count": 24,
   "metadata": {},
   "outputs": [
    {
     "name": "stdout",
     "output_type": "stream",
     "text": [
      "[[5126911 0.98]\n",
      " [5081716 0.98]\n",
      " [8159634 0.97]\n",
      " ...\n",
      " [8694728 0.3]\n",
      " [6397019 0.3]\n",
      " [5186500 0.3]]\n"
     ]
    }
   ],
   "source": [
    "# Obtener los 500 clientes con mayor probabilidad de obtener una tarjeta.\n",
    "probaCliente2 = probaCliente[probaCliente[:,1].argsort()[::-1][:5000]]\n",
    "print(probaCliente2)"
   ]
  },
  {
   "cell_type": "code",
   "execution_count": 25,
   "metadata": {},
   "outputs": [],
   "source": [
    "# Trae a los 5000 id que se deberían guardar\n",
    "personas = pd.DataFrame(probaCliente2[:,0])\n",
    "\n",
    "# Se exporta a Excel los 500 personas que se deberían llamar de acuerdo con las probabilidades\n",
    "personas.to_excel(\"salida.xlsx\")"
   ]
  },
  {
   "cell_type": "code",
   "execution_count": null,
   "metadata": {},
   "outputs": [],
   "source": []
  }
 ],
 "metadata": {
  "kernelspec": {
   "display_name": "Python 3",
   "language": "python",
   "name": "python3"
  },
  "language_info": {
   "codemirror_mode": {
    "name": "ipython",
    "version": 3
   },
   "file_extension": ".py",
   "mimetype": "text/x-python",
   "name": "python",
   "nbconvert_exporter": "python",
   "pygments_lexer": "ipython3",
   "version": "3.7.1"
  }
 },
 "nbformat": 4,
 "nbformat_minor": 2
}

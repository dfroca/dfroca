{
 "cells": [
  {
   "cell_type": "markdown",
   "metadata": {},
   "source": [
    "# **Modelo analítico para órdenes no tomadas**"
   ]
  },
  {
   "cell_type": "markdown",
   "metadata": {},
   "source": [
    "## 1. Carga de fuentes de información\n",
    "### _El objetivo de esta sección es cargar los datos en el notebook y entender los tipos de variables_"
   ]
  },
  {
   "cell_type": "code",
   "execution_count": 1,
   "metadata": {
    "scrolled": true
   },
   "outputs": [
    {
     "name": "stdout",
     "output_type": "stream",
     "text": [
      "order_id               int64\n",
      "store_id               int64\n",
      "to_user_distance     float64\n",
      "to_user_elevation    float64\n",
      "total_earning          int64\n",
      "created_at            object\n",
      "taken                  int64\n",
      "dtype: object\n"
     ]
    }
   ],
   "source": [
    "# Importar la librería pandas para la carga y entendimiento de la fuente de información. Adicionalmente importa\n",
    "# la librería Mathplotlib para realizar gráficas en caso de que se requiera, así como la librería numpy para convertir\n",
    "# las fuentes de datos en arreglos \n",
    "\n",
    "import pandas as pd\n",
    "import matplotlib.pyplot as plt\n",
    "import numpy as np\n",
    "\n",
    "# Se modifica el formato en el que se muestra la información con esta librería para evitar salidas en notación científica\n",
    "pd.options.display.float_format = '{:20,.2f}'.format\n",
    "\n",
    "# Se lee el archivo fuente y se guarda en la variable arch_fuente\n",
    "arch_fuente = pd.read_csv('./orders.csv',)\n",
    "\n",
    "# Tipos de datos\n",
    "tipos_datos = arch_fuente.dtypes\n",
    "print(tipos_datos)\n"
   ]
  },
  {
   "cell_type": "code",
   "execution_count": 2,
   "metadata": {},
   "outputs": [
    {
     "data": {
      "text/html": [
       "<div>\n",
       "<style scoped>\n",
       "    .dataframe tbody tr th:only-of-type {\n",
       "        vertical-align: middle;\n",
       "    }\n",
       "\n",
       "    .dataframe tbody tr th {\n",
       "        vertical-align: top;\n",
       "    }\n",
       "\n",
       "    .dataframe thead th {\n",
       "        text-align: right;\n",
       "    }\n",
       "</style>\n",
       "<table border=\"1\" class=\"dataframe\">\n",
       "  <thead>\n",
       "    <tr style=\"text-align: right;\">\n",
       "      <th></th>\n",
       "      <th>order_id</th>\n",
       "      <th>store_id</th>\n",
       "      <th>to_user_distance</th>\n",
       "      <th>to_user_elevation</th>\n",
       "      <th>total_earning</th>\n",
       "      <th>created_at</th>\n",
       "      <th>taken</th>\n",
       "    </tr>\n",
       "  </thead>\n",
       "  <tbody>\n",
       "    <tr>\n",
       "      <th>0</th>\n",
       "      <td>14364873</td>\n",
       "      <td>30000009</td>\n",
       "      <td>2.48</td>\n",
       "      <td>-72.72</td>\n",
       "      <td>4200</td>\n",
       "      <td>2017-09-07T20:02:17Z</td>\n",
       "      <td>0</td>\n",
       "    </tr>\n",
       "    <tr>\n",
       "      <th>1</th>\n",
       "      <td>14370123</td>\n",
       "      <td>30000058</td>\n",
       "      <td>0.45</td>\n",
       "      <td>37.75</td>\n",
       "      <td>4200</td>\n",
       "      <td>2017-09-07T20:13:16Z</td>\n",
       "      <td>0</td>\n",
       "    </tr>\n",
       "    <tr>\n",
       "      <th>2</th>\n",
       "      <td>14368534</td>\n",
       "      <td>900003684</td>\n",
       "      <td>2.03</td>\n",
       "      <td>207.19</td>\n",
       "      <td>4000</td>\n",
       "      <td>2017-09-07T20:07:23Z</td>\n",
       "      <td>0</td>\n",
       "    </tr>\n",
       "    <tr>\n",
       "      <th>3</th>\n",
       "      <td>14370258</td>\n",
       "      <td>900014452</td>\n",
       "      <td>2.67</td>\n",
       "      <td>1.72</td>\n",
       "      <td>4400</td>\n",
       "      <td>2017-09-07T20:15:19Z</td>\n",
       "      <td>1</td>\n",
       "    </tr>\n",
       "    <tr>\n",
       "      <th>4</th>\n",
       "      <td>14369923</td>\n",
       "      <td>900014085</td>\n",
       "      <td>0.97</td>\n",
       "      <td>117.43</td>\n",
       "      <td>3450</td>\n",
       "      <td>2017-09-07T20:12:14Z</td>\n",
       "      <td>1</td>\n",
       "    </tr>\n",
       "  </tbody>\n",
       "</table>\n",
       "</div>"
      ],
      "text/plain": [
       "   order_id   store_id     to_user_distance    to_user_elevation  \\\n",
       "0  14364873   30000009                 2.48               -72.72   \n",
       "1  14370123   30000058                 0.45                37.75   \n",
       "2  14368534  900003684                 2.03               207.19   \n",
       "3  14370258  900014452                 2.67                 1.72   \n",
       "4  14369923  900014085                 0.97               117.43   \n",
       "\n",
       "   total_earning            created_at  taken  \n",
       "0           4200  2017-09-07T20:02:17Z      0  \n",
       "1           4200  2017-09-07T20:13:16Z      0  \n",
       "2           4000  2017-09-07T20:07:23Z      0  \n",
       "3           4400  2017-09-07T20:15:19Z      1  \n",
       "4           3450  2017-09-07T20:12:14Z      1  "
      ]
     },
     "execution_count": 2,
     "metadata": {},
     "output_type": "execute_result"
    }
   ],
   "source": [
    "# Se visualizan los encabezados para entender la estructura de la variable created_at\n",
    "\n",
    "arch_fuente.head()"
   ]
  },
  {
   "cell_type": "markdown",
   "metadata": {},
   "source": [
    "## 2. Entendimiento de la data histórica y transformaciones\n",
    "### _El objetivo de esta sección es tener un entendimiento del set de datos y realizar las transformaciones necesarias para que los datos puedan utilizarse como soporte a las decisiones de Rappi respecto a las órdenes no tomadas_"
   ]
  },
  {
   "cell_type": "code",
   "execution_count": 3,
   "metadata": {
    "scrolled": true
   },
   "outputs": [
    {
     "data": {
      "text/plain": [
       "order_id             0\n",
       "store_id             0\n",
       "to_user_distance     0\n",
       "to_user_elevation    0\n",
       "total_earning        0\n",
       "created_at           0\n",
       "taken                0\n",
       "dtype: int64"
      ]
     },
     "execution_count": 3,
     "metadata": {},
     "output_type": "execute_result"
    }
   ],
   "source": [
    "# Se identifica si se encuentran valores faltantes.\n",
    "arch_fuente.isnull().sum()"
   ]
  },
  {
   "cell_type": "code",
   "execution_count": 4,
   "metadata": {},
   "outputs": [],
   "source": [
    "# Se eliminan las columnas de order_id y store_id debido a que no deberían hacer parte del análisis\n",
    "del arch_fuente['order_id']\n",
    "del arch_fuente['store_id']"
   ]
  },
  {
   "cell_type": "code",
   "execution_count": 5,
   "metadata": {},
   "outputs": [
    {
     "data": {
      "text/html": [
       "<div>\n",
       "<style scoped>\n",
       "    .dataframe tbody tr th:only-of-type {\n",
       "        vertical-align: middle;\n",
       "    }\n",
       "\n",
       "    .dataframe tbody tr th {\n",
       "        vertical-align: top;\n",
       "    }\n",
       "\n",
       "    .dataframe thead th {\n",
       "        text-align: right;\n",
       "    }\n",
       "</style>\n",
       "<table border=\"1\" class=\"dataframe\">\n",
       "  <thead>\n",
       "    <tr style=\"text-align: right;\">\n",
       "      <th></th>\n",
       "      <th>to_user_distance</th>\n",
       "      <th>to_user_elevation</th>\n",
       "      <th>total_earning</th>\n",
       "      <th>taken</th>\n",
       "      <th>hora</th>\n",
       "      <th>dia</th>\n",
       "    </tr>\n",
       "  </thead>\n",
       "  <tbody>\n",
       "    <tr>\n",
       "      <th>count</th>\n",
       "      <td>146,987.00</td>\n",
       "      <td>146,987.00</td>\n",
       "      <td>146,987.00</td>\n",
       "      <td>146,987.00</td>\n",
       "      <td>146,987.00</td>\n",
       "      <td>146,987.00</td>\n",
       "    </tr>\n",
       "    <tr>\n",
       "      <th>mean</th>\n",
       "      <td>1.50</td>\n",
       "      <td>26.90</td>\n",
       "      <td>5,358.64</td>\n",
       "      <td>0.92</td>\n",
       "      <td>15.76</td>\n",
       "      <td>3.37</td>\n",
       "    </tr>\n",
       "    <tr>\n",
       "      <th>std</th>\n",
       "      <td>0.85</td>\n",
       "      <td>84.91</td>\n",
       "      <td>1,779.80</td>\n",
       "      <td>0.27</td>\n",
       "      <td>3.80</td>\n",
       "      <td>2.03</td>\n",
       "    </tr>\n",
       "    <tr>\n",
       "      <th>min</th>\n",
       "      <td>0.00</td>\n",
       "      <td>-598.30</td>\n",
       "      <td>0.00</td>\n",
       "      <td>0.00</td>\n",
       "      <td>0.00</td>\n",
       "      <td>0.00</td>\n",
       "    </tr>\n",
       "    <tr>\n",
       "      <th>25%</th>\n",
       "      <td>0.84</td>\n",
       "      <td>-18.35</td>\n",
       "      <td>4,200.00</td>\n",
       "      <td>1.00</td>\n",
       "      <td>13.00</td>\n",
       "      <td>2.00</td>\n",
       "    </tr>\n",
       "    <tr>\n",
       "      <th>50%</th>\n",
       "      <td>1.39</td>\n",
       "      <td>11.15</td>\n",
       "      <td>5,200.00</td>\n",
       "      <td>1.00</td>\n",
       "      <td>16.00</td>\n",
       "      <td>4.00</td>\n",
       "    </tr>\n",
       "    <tr>\n",
       "      <th>75%</th>\n",
       "      <td>2.03</td>\n",
       "      <td>61.02</td>\n",
       "      <td>6,300.00</td>\n",
       "      <td>1.00</td>\n",
       "      <td>19.00</td>\n",
       "      <td>5.00</td>\n",
       "    </tr>\n",
       "    <tr>\n",
       "      <th>max</th>\n",
       "      <td>9.36</td>\n",
       "      <td>1,009.38</td>\n",
       "      <td>108,200.00</td>\n",
       "      <td>1.00</td>\n",
       "      <td>23.00</td>\n",
       "      <td>6.00</td>\n",
       "    </tr>\n",
       "  </tbody>\n",
       "</table>\n",
       "</div>"
      ],
      "text/plain": [
       "          to_user_distance    to_user_elevation        total_earning  \\\n",
       "count           146,987.00           146,987.00           146,987.00   \n",
       "mean                  1.50                26.90             5,358.64   \n",
       "std                   0.85                84.91             1,779.80   \n",
       "min                   0.00              -598.30                 0.00   \n",
       "25%                   0.84               -18.35             4,200.00   \n",
       "50%                   1.39                11.15             5,200.00   \n",
       "75%                   2.03                61.02             6,300.00   \n",
       "max                   9.36             1,009.38           108,200.00   \n",
       "\n",
       "                     taken                 hora                  dia  \n",
       "count           146,987.00           146,987.00           146,987.00  \n",
       "mean                  0.92                15.76                 3.37  \n",
       "std                   0.27                 3.80                 2.03  \n",
       "min                   0.00                 0.00                 0.00  \n",
       "25%                   1.00                13.00                 2.00  \n",
       "50%                   1.00                16.00                 4.00  \n",
       "75%                   1.00                19.00                 5.00  \n",
       "max                   1.00                23.00                 6.00  "
      ]
     },
     "execution_count": 5,
     "metadata": {},
     "output_type": "execute_result"
    }
   ],
   "source": [
    "# Se crean las variables adicionales en el dataset que permitan saber el día de la semana y la hora de la orden\n",
    "\n",
    "fecha = arch_fuente['created_at'].str.split(\"T\")\n",
    "\n",
    "# Extraer la fecha y la hora de los pedidos\n",
    "\n",
    "arch_fuente['fecha'] = fecha.map(lambda x: x[0])\n",
    "arch_fuente['hora'] = fecha.map(lambda x: x[1])\n",
    "arch_fuente['hora'] = arch_fuente['hora'].map(lambda x: str(x)[:-1])\n",
    "\n",
    "# Se obtienen las horas del día\n",
    "hora = arch_fuente['hora'].str.split(':')\n",
    "arch_fuente['hora'] = hora.map(lambda x: x[0])\n",
    "\n",
    "# Cambiar el formato de la fecha y obtener el día de la semana\n",
    "arch_fuente['fecha'] =  pd.to_datetime(arch_fuente['fecha'], format='%Y-%m-%d')\n",
    "arch_fuente['dia'] = arch_fuente['fecha'].dt.dayofweek\n",
    "\n",
    "arch_fuente['hora'] = arch_fuente['hora'].astype(int)\n",
    "\n",
    "del arch_fuente['created_at']\n",
    "del arch_fuente['fecha']\n",
    "\n",
    "# Se visualizan las estadísticas descriptivas de las variables con las transformaciones\n",
    "\n",
    "arch_fuente.describe()\n"
   ]
  },
  {
   "cell_type": "code",
   "execution_count": 6,
   "metadata": {},
   "outputs": [
    {
     "data": {
      "text/plain": [
       "to_user_distance     float64\n",
       "to_user_elevation    float64\n",
       "total_earning          int64\n",
       "taken                  int64\n",
       "hora                   int32\n",
       "dia                    int64\n",
       "dtype: object"
      ]
     },
     "execution_count": 6,
     "metadata": {},
     "output_type": "execute_result"
    }
   ],
   "source": [
    "# Se validan los tipos de datos para que se puedan utilizar en un modelo analítico\n",
    "arch_fuente.dtypes"
   ]
  },
  {
   "cell_type": "code",
   "execution_count": 7,
   "metadata": {},
   "outputs": [
    {
     "data": {
      "text/html": [
       "<div>\n",
       "<style scoped>\n",
       "    .dataframe tbody tr th:only-of-type {\n",
       "        vertical-align: middle;\n",
       "    }\n",
       "\n",
       "    .dataframe tbody tr th {\n",
       "        vertical-align: top;\n",
       "    }\n",
       "\n",
       "    .dataframe thead th {\n",
       "        text-align: right;\n",
       "    }\n",
       "</style>\n",
       "<table border=\"1\" class=\"dataframe\">\n",
       "  <thead>\n",
       "    <tr style=\"text-align: right;\">\n",
       "      <th></th>\n",
       "      <th>taken</th>\n",
       "      <th>count</th>\n",
       "    </tr>\n",
       "  </thead>\n",
       "  <tbody>\n",
       "    <tr>\n",
       "      <th>0</th>\n",
       "      <td>1</td>\n",
       "      <td>135407</td>\n",
       "    </tr>\n",
       "    <tr>\n",
       "      <th>1</th>\n",
       "      <td>0</td>\n",
       "      <td>11580</td>\n",
       "    </tr>\n",
       "  </tbody>\n",
       "</table>\n",
       "</div>"
      ],
      "text/plain": [
       "   taken   count\n",
       "0      1  135407\n",
       "1      0   11580"
      ]
     },
     "execution_count": 7,
     "metadata": {},
     "output_type": "execute_result"
    }
   ],
   "source": [
    "# Entendimiento de las órdenes tomadas y las órdenes tomadas\n",
    "\n",
    "arch_fuente['taken'].value_counts().to_frame().reset_index().rename(columns={'index':'taken', 'taken':'count'})"
   ]
  },
  {
   "cell_type": "code",
   "execution_count": 8,
   "metadata": {},
   "outputs": [
    {
     "name": "stdout",
     "output_type": "stream",
     "text": [
      "dia  taken\n",
      "0    0         1325\n",
      "     1        13692\n",
      "1    0         1590\n",
      "     1        19530\n",
      "2    0         1297\n",
      "     1        17358\n",
      "3    0         1468\n",
      "     1        14911\n",
      "4    0         1882\n",
      "     1        19360\n",
      "5    0         2577\n",
      "     1        22258\n",
      "6    0         1441\n",
      "     1        28298\n",
      "dtype: int64\n"
     ]
    }
   ],
   "source": [
    "# Se desarrollan agregaciones de información para análizar los datos y responder a las preguntas del negocio:\n",
    "\n",
    "\n",
    "# Se imprimen los totales de pedidos tomados y no tomados por día\n",
    "res = arch_fuente.groupby(['dia', 'taken']).size()\n",
    "print (res)\n"
   ]
  },
  {
   "cell_type": "code",
   "execution_count": 9,
   "metadata": {},
   "outputs": [
    {
     "name": "stdout",
     "output_type": "stream",
     "text": [
      "dia  taken\n",
      "0    0                       8.82\n",
      "     1                      91.18\n",
      "1    0                       7.53\n",
      "     1                      92.47\n",
      "2    0                       6.95\n",
      "     1                      93.05\n",
      "3    0                       8.96\n",
      "     1                      91.04\n",
      "4    0                       8.86\n",
      "     1                      91.14\n",
      "5    0                      10.38\n",
      "     1                      89.62\n",
      "6    0                       4.85\n",
      "     1                      95.15\n",
      "dtype: float64\n"
     ]
    }
   ],
   "source": [
    "# Se imprimen los porcentajes de pedidos tomados y no tomados por día\n",
    "\n",
    "res2 = res.groupby(level=0).apply(lambda x: 100 * x / float(x.sum()))\n",
    "print(res2)\n"
   ]
  },
  {
   "cell_type": "code",
   "execution_count": 10,
   "metadata": {},
   "outputs": [
    {
     "name": "stdout",
     "output_type": "stream",
     "text": [
      "hora  taken\n",
      "0     0                      16.67\n",
      "      1                      83.33\n",
      "1     0                      28.52\n",
      "      1                      71.48\n",
      "2     0                      31.88\n",
      "      1                      68.12\n",
      "3     0                      34.40\n",
      "      1                      65.60\n",
      "4     0                      37.50\n",
      "      1                      62.50\n",
      "5     0                      50.00\n",
      "      1                      50.00\n",
      "6     0                      13.43\n",
      "      1                      86.57\n",
      "7     0                       4.73\n",
      "      1                      95.27\n",
      "8     0                       3.91\n",
      "      1                      96.09\n",
      "9     0                       4.20\n",
      "      1                      95.80\n",
      "10    0                       2.77\n",
      "      1                      97.23\n",
      "11    0                       7.94\n",
      "      1                      92.06\n",
      "12    0                       7.37\n",
      "      1                      92.63\n",
      "13    0                       5.69\n",
      "      1                      94.31\n",
      "14    0                       4.87\n",
      "      1                      95.13\n",
      "15    0                       7.59\n",
      "      1                      92.41\n",
      "16    0                       8.39\n",
      "      1                      91.61\n",
      "17    0                       8.31\n",
      "      1                      91.69\n",
      "18    0                       7.29\n",
      "      1                      92.71\n",
      "19    0                       9.10\n",
      "      1                      90.90\n",
      "20    0                       9.78\n",
      "      1                      90.22\n",
      "21    0                      10.13\n",
      "      1                      89.87\n",
      "22    0                      11.60\n",
      "      1                      88.40\n",
      "23    0                      12.17\n",
      "      1                      87.83\n",
      "dtype: float64\n"
     ]
    }
   ],
   "source": [
    "\n",
    "#Se realiza el mismo análisis pero para las horas\n",
    "\n",
    "resH = arch_fuente.groupby(['hora', 'taken']).size()\n",
    "resH2 = resH.groupby(level=0).apply(lambda x: 100 * x / float(x.sum()))\n",
    "print(resH2)\n",
    "\n"
   ]
  },
  {
   "cell_type": "code",
   "execution_count": 11,
   "metadata": {},
   "outputs": [
    {
     "data": {
      "image/png": "[encoded data removed]",
      "text/plain": [
       "<Figure size 432x288 with 1 Axes>"
      ]
     },
     "metadata": {
      "needs_background": "light"
     },
     "output_type": "display_data"
    }
   ],
   "source": [
    "# Se realiza un recuento de las ocurrencias de la variable objetivo para el modelo taken\n",
    "# Se puede visualizar que durante el modelado es necesario tener en cuenta el oversampling para lo cual es necesario\n",
    "# realizar unos ajustes al set de entrenamiento\n",
    "\n",
    "dataset_train = arch_fuente\n",
    "clasesTieneAdicional = dataset_train.groupby('taken').size()\n",
    "\n",
    "plt.hist(dataset_train['taken'])\n",
    "plt.show()"
   ]
  },
  {
   "cell_type": "markdown",
   "metadata": {},
   "source": [
    "## 3. Modelado\n",
    "### _El objetivo de esta sección es entrenar y evaluar el modelo analítico que en este caso se va a probar_"
   ]
  },
  {
   "cell_type": "code",
   "execution_count": 12,
   "metadata": {},
   "outputs": [],
   "source": [
    "# Se importan las librerías para utilizar el modelo Random Forest para una variable objetivo binaria, la librería\n",
    "# que permite hacer el split de los datos para el set de prueba y de evaluación, las de las métricas del modelo y\n",
    "# la librería que permite dar un manejo al over-sampling con el algoritmo SMOTE.\n",
    "\n",
    "from sklearn.ensemble import RandomForestClassifier\n",
    "from sklearn.model_selection import train_test_split\n",
    "from sklearn.metrics import recall_score\n",
    "from sklearn.metrics import accuracy_score\n",
    "from sklearn.metrics import confusion_matrix\n",
    "from imblearn.over_sampling import SMOTE\n",
    "\n",
    "# Se dividen los sets de datos de entrenamiento y con un 80% y 20% respectivamente \n",
    "train_x, eval_x, \\\n",
    "train_y, eval_y, = train_test_split(dataset_train.drop(['taken'], axis=1),\n",
    "                                               dataset_train['taken'],\n",
    "                                               test_size = .2,\n",
    "                                               random_state=19)"
   ]
  },
  {
   "cell_type": "code",
   "execution_count": 14,
   "metadata": {},
   "outputs": [],
   "source": [
    "# Se utiliza el algoritmo SMOTE para manejar el oversampling\n",
    "# Los sets de entrenamiento se ajustan para poder tomar decisiones de manera adecuada con la información disponible.\n",
    "\n",
    "sm = SMOTE(random_state=19, ratio = 1.0)\n",
    "train_x_sm, train_y_sm = sm.fit_sample(train_x, train_y)"
   ]
  },
  {
   "cell_type": "code",
   "execution_count": 15,
   "metadata": {},
   "outputs": [
    {
     "data": {
      "text/plain": [
       "RandomForestClassifier(bootstrap=True, class_weight=None, criterion='gini',\n",
       "                       max_depth=None, max_features='auto', max_leaf_nodes=None,\n",
       "                       min_impurity_decrease=0.0, min_impurity_split=None,\n",
       "                       min_samples_leaf=1, min_samples_split=2,\n",
       "                       min_weight_fraction_leaf=0.0, n_estimators=100,\n",
       "                       n_jobs=None, oob_score=False, random_state=19, verbose=0,\n",
       "                       warm_start=False)"
      ]
     },
     "execution_count": 15,
     "metadata": {},
     "output_type": "execute_result"
    }
   ],
   "source": [
    "# Una vez modificados los sets de entrenamiento para manejar el oversampling se procede a entrenar el modelo analítico\n",
    "\n",
    "rf = RandomForestClassifier(n_estimators = 100, random_state = 19)\n",
    "rf.fit(train_x_sm, train_y_sm)"
   ]
  },
  {
   "cell_type": "markdown",
   "metadata": {},
   "source": [
    "## 4. Evaluación y análisis de resultados\n",
    "### _El objetivo de esta sección es evaluar el modelo entrenado con los datos de prueba y analizar los resultados obtenidos_"
   ]
  },
  {
   "cell_type": "code",
   "execution_count": 85,
   "metadata": {},
   "outputs": [
    {
     "name": "stdout",
     "output_type": "stream",
     "text": [
      "Precisión y matriz de confusión: 0.9033947887611402\n",
      "[[  255   786]\n",
      " [ 2054 26303]]\n"
     ]
    }
   ],
   "source": [
    "# Predecir los datos de prueba con el modelo entrenado\n",
    "predicciones = rf.predict(eval_x)\n",
    "\n",
    "\n",
    "# Se obtienen dos métricas con base en las predicciones\n",
    "print('Precisión y matriz de confusión:', accuracy_score(predicciones,eval_y))\n",
    "print(confusion_matrix(predicciones,eval_y))\n",
    " \n"
   ]
  },
  {
   "cell_type": "code",
   "execution_count": 86,
   "metadata": {},
   "outputs": [
    {
     "name": "stdout",
     "output_type": "stream",
     "text": [
      "Variable: dia        Importance: 0.32\n",
      "Variable: hora       Importance: 0.27\n",
      "Variable: to_user_elevation Importance: 0.16\n",
      "Variable: to_user_distance Importance: 0.15\n",
      "Variable: total_earning Importance: 0.09\n"
     ]
    }
   ],
   "source": [
    "# A continuación se van a análizar cuales son las variables mas importantes que se encuentran asociadas a no tomar una orden.\n",
    "\n",
    "# Computar las importancias de las distintas variables en el arbol\n",
    "importancias = list(rf.feature_importances_)\n",
    "\n",
    "# Tuplas de variables e importancia de las mismas\n",
    "lista_variables = dataset_train.drop(['taken'], axis=1)\n",
    "\n",
    "feature_importances = [(feature, round(importance,2))for feature, importance in zip(lista_variables, importancias)] \n",
    "\n",
    "# Ordenar las tuplas por importancia\n",
    "feature_importances = sorted(feature_importances, key = lambda x:x[1], reverse = True)\n",
    "\n",
    "# Mostrar las importancias\n",
    "[print ('Variable: {:10} Importance: {}'.format(*pair)) for pair in feature_importances];\n",
    "\n",
    "# En esta salida se evidencia la importancia de los ingresos y edad de una persona para que acepten o no acepten \n",
    "# un pedido"
   ]
  }
 ],
 "metadata": {
  "kernelspec": {
   "display_name": "Python 3",
   "language": "python",
   "name": "python3"
  },
  "language_info": {
   "codemirror_mode": {
    "name": "ipython",
    "version": 3
   },
   "file_extension": ".py",
   "mimetype": "text/x-python",
   "name": "python",
   "nbconvert_exporter": "python",
   "pygments_lexer": "ipython3",
   "version": "3.7.3"
  }
 },
 "nbformat": 4,
 "nbformat_minor": 2
}
